{
 "cells": [
  {
   "cell_type": "markdown",
   "id": "fa9fb91d",
   "metadata": {},
   "source": [
    "# Prepare a Dataset of Construction contractors in Tamil Nadu"
   ]
  },
  {
   "cell_type": "markdown",
   "id": "4dd955a3",
   "metadata": {},
   "source": [
    "#### Submitted By : Manjiri H Sawant"
   ]
  },
  {
   "cell_type": "markdown",
   "id": "8cb8773c",
   "metadata": {},
   "source": [
    "### Objectives :"
   ]
  },
  {
   "cell_type": "markdown",
   "id": "34f518eb",
   "metadata": {},
   "source": [
    "1. Prepare a dataset of “Construction contractors in Tamil Nadu”. There must be minimum 200 entries/rows and you can go as high    as you can. \n",
    "2. There are many websites/webpages which have this information and a simple google search will take you there.\n",
    "3. Data set should include -\n",
    "     * Name\n",
    "     * Mobile/Phone Number\n",
    "     * Address\n",
    "     * Any other relevant fields that you can fetch\n",
    "     * Web URL (From where you are getting this information)\n",
    "\n",
    "\n",
    "\n",
    "4. Put the structured data in excel sheet and prepare a short note on the approach that you took to scrap / collate the data\n",
    "\n"
   ]
  },
  {
   "cell_type": "markdown",
   "id": "125b2d75",
   "metadata": {},
   "source": [
    "`Tool Used`: **Python Jupyter Notebook**"
   ]
  },
  {
   "cell_type": "markdown",
   "id": "a1684e0d",
   "metadata": {},
   "source": [
    "# Data Scraping"
   ]
  },
  {
   "cell_type": "markdown",
   "id": "43e0ad39",
   "metadata": {},
   "source": [
    "1. `BeautifulSoup` - Format and Scrap the data from the HTML\n",
    "2. `Selenium` - Controlling web browser through programs\n",
    "3. `Urlib` - Used to fetch URL"
   ]
  },
  {
   "cell_type": "markdown",
   "id": "236143bf",
   "metadata": {},
   "source": [
    "**Steps**\n",
    "\n",
    "1. Identify URL\n",
    "2. Inspect HTML code\n",
    "3. Find the HTML tag for the element that you want to extract.\n",
    "4. Write some code to scrap this data"
   ]
  },
  {
   "cell_type": "markdown",
   "id": "e4133ffd",
   "metadata": {},
   "source": [
    "Website Used to Scrape Data Construction Contractors in Tamil Nadu:\n",
    "\n",
    "https://www.dnb.com/business-directory/company-information.construction.in.html"
   ]
  },
  {
   "cell_type": "markdown",
   "id": "669f71cb",
   "metadata": {},
   "source": [
    "#### Import Necessary Libraries"
   ]
  },
  {
   "cell_type": "markdown",
   "id": "ac24375f",
   "metadata": {},
   "source": [
    "##### The following code written in Python 3.x. Libraries provide pre-written functionally to perform necessary tasks."
   ]
  },
  {
   "cell_type": "code",
   "execution_count": 1,
   "id": "e064f65a",
   "metadata": {},
   "outputs": [],
   "source": [
    "# Loading Required Libraries\n",
    "\n",
    "import time\n",
    "import re\n",
    "import pandas as pd\n",
    "import numpy as np\n",
    "from bs4 import BeautifulSoup\n",
    "from selenium import webdriver\n",
    "from selenium.webdriver.firefox.options import Options as FirefoxOptions\n",
    "from urllib.parse import urljoin"
   ]
  },
  {
   "cell_type": "code",
   "execution_count": 2,
   "id": "4a7df4cd",
   "metadata": {},
   "outputs": [],
   "source": [
    "# run only once\n",
    "name = []\n",
    "address = []\n",
    "number = []\n",
    "year = []\n",
    "employee = []\n",
    "url = []\n",
    "completed = []"
   ]
  },
  {
   "cell_type": "code",
   "execution_count": 3,
   "id": "0c765bf2",
   "metadata": {},
   "outputs": [
    {
     "name": "stdout",
     "output_type": "stream",
     "text": [
      "https://www.dnb.com/business-directory/company-information.construction.in.tamil_nadu.html?page=1\n",
      "https://www.dnb.com/business-directory/company-information.construction.in.tamil_nadu.html?page=2\n",
      "https://www.dnb.com/business-directory/company-information.construction.in.tamil_nadu.html?page=3\n",
      "https://www.dnb.com/business-directory/company-information.construction.in.tamil_nadu.html?page=4\n",
      "https://www.dnb.com/business-directory/company-information.construction.in.tamil_nadu.html?page=5\n",
      "https://www.dnb.com/business-directory/company-information.construction.in.tamil_nadu.html?page=6\n"
     ]
    }
   ],
   "source": [
    "for i in range(1,7):\n",
    "    print('https://www.dnb.com/business-directory/company-information.construction.in.tamil_nadu.html?page={}'.format(i))"
   ]
  },
  {
   "cell_type": "code",
   "execution_count": 4,
   "id": "26679464",
   "metadata": {},
   "outputs": [],
   "source": [
    "# Identify the URL\n",
    "\n",
    "URL = 'https://www.dnb.com/business-directory/company-information.construction.in.tamil_nadu.html?page=1'"
   ]
  },
  {
   "cell_type": "markdown",
   "id": "90dbd688",
   "metadata": {},
   "source": [
    "* Through **WebDriver**, Selenium supports all major browsers such as Chrome/Chromium, Firefox, \n",
    "  Internet Explorer, Edge, Opera, and Safari.\n",
    "* WebDriver drives the browser using the browser’s built-in support forautomation."
   ]
  },
  {
   "cell_type": "markdown",
   "id": "a030ee1b",
   "metadata": {},
   "source": [
    "* I have used gecko driver which links between selenium test and the Firefox browser to keep **headless** to access any website   easily nothing will appear on screen. Everything is done on the backend side."
   ]
  },
  {
   "cell_type": "markdown",
   "id": "2123169c",
   "metadata": {},
   "source": [
    "**The website has contained several hyperlinks of companies detailed information.**\n",
    "* So, In the beginning I have extracted all hyperlinks on the webpage and saved it in a list. \n",
    "* I used regex i.e.regular expressions to extract the href from webpage and created valid URL using **urljoin()** function."
   ]
  },
  {
   "cell_type": "code",
   "execution_count": 5,
   "id": "96a1ee71",
   "metadata": {},
   "outputs": [],
   "source": [
    "try:\n",
    "    options = FirefoxOptions()\n",
    "    options.add_argument(\"--headless\")\n",
    "    driver = webdriver.Firefox(options=options)\n",
    "    page = driver.get(URL)\n",
    "    content = driver.page_source\n",
    "    \n",
    "finally:\n",
    "    try:\n",
    "        driver.close()\n",
    "    except:\n",
    "        pass"
   ]
  },
  {
   "cell_type": "code",
   "execution_count": 6,
   "id": "be1e27bf",
   "metadata": {},
   "outputs": [],
   "source": [
    "# Format the HTML code using bs4 library\n",
    "\n",
    "soup = BeautifulSoup(content, features = \"html.parser\")"
   ]
  },
  {
   "cell_type": "code",
   "execution_count": 7,
   "id": "35bfec91",
   "metadata": {},
   "outputs": [],
   "source": [
    "link = []\n",
    "\n",
    "regex = r'href=\"(.+?)\"'\n",
    "\n",
    "fun = lambda x: re.findall(regex,str(x))\n",
    "\n",
    "for ele in soup.find_all('a', href = re.compile('/business-directory/company-profiles.')):\n",
    "    \n",
    "    raw = []\n",
    "    \n",
    "    n = fun(ele)[0]\n",
    "    raw.append(n)\n",
    "    \n",
    "    for ele in raw:\n",
    "        v = urljoin('https://www.dnb.com/',ele)\n",
    "        link.append(v)      "
   ]
  },
  {
   "cell_type": "markdown",
   "id": "c23c114c",
   "metadata": {},
   "source": [
    "### Tags are very important while scraping data from particular website."
   ]
  },
  {
   "cell_type": "markdown",
   "id": "99d3c905",
   "metadata": {},
   "source": [
    "**Lets identify the below mentioned features and based on them we will try to scrape out the relavant data from Business Directory website.**\n",
    "\n",
    "Company Name = '?'\n",
    "\n",
    "Address = '?'\n",
    "\n",
    "Phone Number = '?'\n",
    "\n",
    "Incorporated Year = '?'\n",
    "\n",
    "Employees = '?'"
   ]
  },
  {
   "cell_type": "markdown",
   "id": "97da87b9",
   "metadata": {},
   "source": [
    "URL = `'https://www.dnb.com/business-directory/company-profiles.refex_industries_limited.613c93187b7089c0aeab701771942fb3.html'\n",
    "\n",
    "* Name = **title** \n",
    "* Address = **span** `company_address`  \n",
    "* Phone Number = **span** `company_phone`  \n",
    "* Year  = **span** `year_incorporated`  \n",
    "* Employees = **span** `employees_all_site`"
   ]
  },
  {
   "cell_type": "markdown",
   "id": "d7024bbc",
   "metadata": {},
   "source": [
    "* **soup.find()** is used for finding out the first tag with the specified name or id and returning an object of type bs4. \n",
    "* I have iterated all tags till I get the all necessary information from one webpage. "
   ]
  },
  {
   "cell_type": "markdown",
   "id": "2c852957",
   "metadata": {},
   "source": [
    "* This has to perform several times to get minimum 200 entries that has mentioned in the task. \n",
    "* But sometimes, you will encounter **timeout exception error** it breaks the loop unexpectedly, \n",
    "* so for that I have kept time interval of 20 mins to avoid the error."
   ]
  },
  {
   "cell_type": "markdown",
   "id": "9e58464b",
   "metadata": {},
   "source": [
    "### Code for Web Scraping Below"
   ]
  },
  {
   "cell_type": "code",
   "execution_count": 8,
   "id": "0caf1c54",
   "metadata": {},
   "outputs": [
    {
     "name": "stdout",
     "output_type": "stream",
     "text": [
      "Data Scraped Successfully\n",
      "Data Scraped Successfully\n",
      "Data Scraped Successfully\n",
      "Data Scraped Successfully\n",
      "Data Scraped Successfully\n",
      "Data Scraped Successfully\n"
     ]
    },
    {
     "ename": "KeyboardInterrupt",
     "evalue": "",
     "output_type": "error",
     "traceback": [
      "\u001b[1;31m---------------------------------------------------------------------------\u001b[0m",
      "\u001b[1;31mKeyboardInterrupt\u001b[0m                         Traceback (most recent call last)",
      "\u001b[1;32m<timed exec>\u001b[0m in \u001b[0;36m<module>\u001b[1;34m\u001b[0m\n",
      "\u001b[1;32m~\\anaconda3\\lib\\site-packages\\selenium\\webdriver\\remote\\webdriver.py\u001b[0m in \u001b[0;36mget\u001b[1;34m(self, url)\u001b[0m\n\u001b[0;32m    434\u001b[0m         \u001b[0mLoads\u001b[0m \u001b[0ma\u001b[0m \u001b[0mweb\u001b[0m \u001b[0mpage\u001b[0m \u001b[1;32min\u001b[0m \u001b[0mthe\u001b[0m \u001b[0mcurrent\u001b[0m \u001b[0mbrowser\u001b[0m \u001b[0msession\u001b[0m\u001b[1;33m.\u001b[0m\u001b[1;33m\u001b[0m\u001b[1;33m\u001b[0m\u001b[0m\n\u001b[0;32m    435\u001b[0m         \"\"\"\n\u001b[1;32m--> 436\u001b[1;33m         \u001b[0mself\u001b[0m\u001b[1;33m.\u001b[0m\u001b[0mexecute\u001b[0m\u001b[1;33m(\u001b[0m\u001b[0mCommand\u001b[0m\u001b[1;33m.\u001b[0m\u001b[0mGET\u001b[0m\u001b[1;33m,\u001b[0m \u001b[1;33m{\u001b[0m\u001b[1;34m'url'\u001b[0m\u001b[1;33m:\u001b[0m \u001b[0murl\u001b[0m\u001b[1;33m}\u001b[0m\u001b[1;33m)\u001b[0m\u001b[1;33m\u001b[0m\u001b[1;33m\u001b[0m\u001b[0m\n\u001b[0m\u001b[0;32m    437\u001b[0m \u001b[1;33m\u001b[0m\u001b[0m\n\u001b[0;32m    438\u001b[0m     \u001b[1;33m@\u001b[0m\u001b[0mproperty\u001b[0m\u001b[1;33m\u001b[0m\u001b[1;33m\u001b[0m\u001b[0m\n",
      "\u001b[1;32m~\\anaconda3\\lib\\site-packages\\selenium\\webdriver\\remote\\webdriver.py\u001b[0m in \u001b[0;36mexecute\u001b[1;34m(self, driver_command, params)\u001b[0m\n\u001b[0;32m    420\u001b[0m \u001b[1;33m\u001b[0m\u001b[0m\n\u001b[0;32m    421\u001b[0m         \u001b[0mparams\u001b[0m \u001b[1;33m=\u001b[0m \u001b[0mself\u001b[0m\u001b[1;33m.\u001b[0m\u001b[0m_wrap_value\u001b[0m\u001b[1;33m(\u001b[0m\u001b[0mparams\u001b[0m\u001b[1;33m)\u001b[0m\u001b[1;33m\u001b[0m\u001b[1;33m\u001b[0m\u001b[0m\n\u001b[1;32m--> 422\u001b[1;33m         \u001b[0mresponse\u001b[0m \u001b[1;33m=\u001b[0m \u001b[0mself\u001b[0m\u001b[1;33m.\u001b[0m\u001b[0mcommand_executor\u001b[0m\u001b[1;33m.\u001b[0m\u001b[0mexecute\u001b[0m\u001b[1;33m(\u001b[0m\u001b[0mdriver_command\u001b[0m\u001b[1;33m,\u001b[0m \u001b[0mparams\u001b[0m\u001b[1;33m)\u001b[0m\u001b[1;33m\u001b[0m\u001b[1;33m\u001b[0m\u001b[0m\n\u001b[0m\u001b[0;32m    423\u001b[0m         \u001b[1;32mif\u001b[0m \u001b[0mresponse\u001b[0m\u001b[1;33m:\u001b[0m\u001b[1;33m\u001b[0m\u001b[1;33m\u001b[0m\u001b[0m\n\u001b[0;32m    424\u001b[0m             \u001b[0mself\u001b[0m\u001b[1;33m.\u001b[0m\u001b[0merror_handler\u001b[0m\u001b[1;33m.\u001b[0m\u001b[0mcheck_response\u001b[0m\u001b[1;33m(\u001b[0m\u001b[0mresponse\u001b[0m\u001b[1;33m)\u001b[0m\u001b[1;33m\u001b[0m\u001b[1;33m\u001b[0m\u001b[0m\n",
      "\u001b[1;32m~\\anaconda3\\lib\\site-packages\\selenium\\webdriver\\remote\\remote_connection.py\u001b[0m in \u001b[0;36mexecute\u001b[1;34m(self, command, params)\u001b[0m\n\u001b[0;32m    419\u001b[0m         \u001b[0mdata\u001b[0m \u001b[1;33m=\u001b[0m \u001b[0mutils\u001b[0m\u001b[1;33m.\u001b[0m\u001b[0mdump_json\u001b[0m\u001b[1;33m(\u001b[0m\u001b[0mparams\u001b[0m\u001b[1;33m)\u001b[0m\u001b[1;33m\u001b[0m\u001b[1;33m\u001b[0m\u001b[0m\n\u001b[0;32m    420\u001b[0m         \u001b[0murl\u001b[0m \u001b[1;33m=\u001b[0m \u001b[1;34mf\"{self._url}{path}\"\u001b[0m\u001b[1;33m\u001b[0m\u001b[1;33m\u001b[0m\u001b[0m\n\u001b[1;32m--> 421\u001b[1;33m         \u001b[1;32mreturn\u001b[0m \u001b[0mself\u001b[0m\u001b[1;33m.\u001b[0m\u001b[0m_request\u001b[0m\u001b[1;33m(\u001b[0m\u001b[0mcommand_info\u001b[0m\u001b[1;33m[\u001b[0m\u001b[1;36m0\u001b[0m\u001b[1;33m]\u001b[0m\u001b[1;33m,\u001b[0m \u001b[0murl\u001b[0m\u001b[1;33m,\u001b[0m \u001b[0mbody\u001b[0m\u001b[1;33m=\u001b[0m\u001b[0mdata\u001b[0m\u001b[1;33m)\u001b[0m\u001b[1;33m\u001b[0m\u001b[1;33m\u001b[0m\u001b[0m\n\u001b[0m\u001b[0;32m    422\u001b[0m \u001b[1;33m\u001b[0m\u001b[0m\n\u001b[0;32m    423\u001b[0m     \u001b[1;32mdef\u001b[0m \u001b[0m_request\u001b[0m\u001b[1;33m(\u001b[0m\u001b[0mself\u001b[0m\u001b[1;33m,\u001b[0m \u001b[0mmethod\u001b[0m\u001b[1;33m,\u001b[0m \u001b[0murl\u001b[0m\u001b[1;33m,\u001b[0m \u001b[0mbody\u001b[0m\u001b[1;33m=\u001b[0m\u001b[1;32mNone\u001b[0m\u001b[1;33m)\u001b[0m\u001b[1;33m:\u001b[0m\u001b[1;33m\u001b[0m\u001b[1;33m\u001b[0m\u001b[0m\n",
      "\u001b[1;32m~\\anaconda3\\lib\\site-packages\\selenium\\webdriver\\remote\\remote_connection.py\u001b[0m in \u001b[0;36m_request\u001b[1;34m(self, method, url, body)\u001b[0m\n\u001b[0;32m    441\u001b[0m \u001b[1;33m\u001b[0m\u001b[0m\n\u001b[0;32m    442\u001b[0m         \u001b[1;32mif\u001b[0m \u001b[0mself\u001b[0m\u001b[1;33m.\u001b[0m\u001b[0mkeep_alive\u001b[0m\u001b[1;33m:\u001b[0m\u001b[1;33m\u001b[0m\u001b[1;33m\u001b[0m\u001b[0m\n\u001b[1;32m--> 443\u001b[1;33m             \u001b[0mresp\u001b[0m \u001b[1;33m=\u001b[0m \u001b[0mself\u001b[0m\u001b[1;33m.\u001b[0m\u001b[0m_conn\u001b[0m\u001b[1;33m.\u001b[0m\u001b[0mrequest\u001b[0m\u001b[1;33m(\u001b[0m\u001b[0mmethod\u001b[0m\u001b[1;33m,\u001b[0m \u001b[0murl\u001b[0m\u001b[1;33m,\u001b[0m \u001b[0mbody\u001b[0m\u001b[1;33m=\u001b[0m\u001b[0mbody\u001b[0m\u001b[1;33m,\u001b[0m \u001b[0mheaders\u001b[0m\u001b[1;33m=\u001b[0m\u001b[0mheaders\u001b[0m\u001b[1;33m)\u001b[0m\u001b[1;33m\u001b[0m\u001b[1;33m\u001b[0m\u001b[0m\n\u001b[0m\u001b[0;32m    444\u001b[0m             \u001b[0mstatuscode\u001b[0m \u001b[1;33m=\u001b[0m \u001b[0mresp\u001b[0m\u001b[1;33m.\u001b[0m\u001b[0mstatus\u001b[0m\u001b[1;33m\u001b[0m\u001b[1;33m\u001b[0m\u001b[0m\n\u001b[0;32m    445\u001b[0m         \u001b[1;32melse\u001b[0m\u001b[1;33m:\u001b[0m\u001b[1;33m\u001b[0m\u001b[1;33m\u001b[0m\u001b[0m\n",
      "\u001b[1;32m~\\anaconda3\\lib\\site-packages\\urllib3\\request.py\u001b[0m in \u001b[0;36mrequest\u001b[1;34m(self, method, url, fields, headers, **urlopen_kw)\u001b[0m\n\u001b[0;32m     76\u001b[0m             )\n\u001b[0;32m     77\u001b[0m         \u001b[1;32melse\u001b[0m\u001b[1;33m:\u001b[0m\u001b[1;33m\u001b[0m\u001b[1;33m\u001b[0m\u001b[0m\n\u001b[1;32m---> 78\u001b[1;33m             return self.request_encode_body(\n\u001b[0m\u001b[0;32m     79\u001b[0m                 \u001b[0mmethod\u001b[0m\u001b[1;33m,\u001b[0m \u001b[0murl\u001b[0m\u001b[1;33m,\u001b[0m \u001b[0mfields\u001b[0m\u001b[1;33m=\u001b[0m\u001b[0mfields\u001b[0m\u001b[1;33m,\u001b[0m \u001b[0mheaders\u001b[0m\u001b[1;33m=\u001b[0m\u001b[0mheaders\u001b[0m\u001b[1;33m,\u001b[0m \u001b[1;33m**\u001b[0m\u001b[0murlopen_kw\u001b[0m\u001b[1;33m\u001b[0m\u001b[1;33m\u001b[0m\u001b[0m\n\u001b[0;32m     80\u001b[0m             )\n",
      "\u001b[1;32m~\\anaconda3\\lib\\site-packages\\urllib3\\request.py\u001b[0m in \u001b[0;36mrequest_encode_body\u001b[1;34m(self, method, url, fields, headers, encode_multipart, multipart_boundary, **urlopen_kw)\u001b[0m\n\u001b[0;32m    168\u001b[0m         \u001b[0mextra_kw\u001b[0m\u001b[1;33m.\u001b[0m\u001b[0mupdate\u001b[0m\u001b[1;33m(\u001b[0m\u001b[0murlopen_kw\u001b[0m\u001b[1;33m)\u001b[0m\u001b[1;33m\u001b[0m\u001b[1;33m\u001b[0m\u001b[0m\n\u001b[0;32m    169\u001b[0m \u001b[1;33m\u001b[0m\u001b[0m\n\u001b[1;32m--> 170\u001b[1;33m         \u001b[1;32mreturn\u001b[0m \u001b[0mself\u001b[0m\u001b[1;33m.\u001b[0m\u001b[0murlopen\u001b[0m\u001b[1;33m(\u001b[0m\u001b[0mmethod\u001b[0m\u001b[1;33m,\u001b[0m \u001b[0murl\u001b[0m\u001b[1;33m,\u001b[0m \u001b[1;33m**\u001b[0m\u001b[0mextra_kw\u001b[0m\u001b[1;33m)\u001b[0m\u001b[1;33m\u001b[0m\u001b[1;33m\u001b[0m\u001b[0m\n\u001b[0m",
      "\u001b[1;32m~\\anaconda3\\lib\\site-packages\\urllib3\\poolmanager.py\u001b[0m in \u001b[0;36murlopen\u001b[1;34m(self, method, url, redirect, **kw)\u001b[0m\n\u001b[0;32m    373\u001b[0m             \u001b[0mresponse\u001b[0m \u001b[1;33m=\u001b[0m \u001b[0mconn\u001b[0m\u001b[1;33m.\u001b[0m\u001b[0murlopen\u001b[0m\u001b[1;33m(\u001b[0m\u001b[0mmethod\u001b[0m\u001b[1;33m,\u001b[0m \u001b[0murl\u001b[0m\u001b[1;33m,\u001b[0m \u001b[1;33m**\u001b[0m\u001b[0mkw\u001b[0m\u001b[1;33m)\u001b[0m\u001b[1;33m\u001b[0m\u001b[1;33m\u001b[0m\u001b[0m\n\u001b[0;32m    374\u001b[0m         \u001b[1;32melse\u001b[0m\u001b[1;33m:\u001b[0m\u001b[1;33m\u001b[0m\u001b[1;33m\u001b[0m\u001b[0m\n\u001b[1;32m--> 375\u001b[1;33m             \u001b[0mresponse\u001b[0m \u001b[1;33m=\u001b[0m \u001b[0mconn\u001b[0m\u001b[1;33m.\u001b[0m\u001b[0murlopen\u001b[0m\u001b[1;33m(\u001b[0m\u001b[0mmethod\u001b[0m\u001b[1;33m,\u001b[0m \u001b[0mu\u001b[0m\u001b[1;33m.\u001b[0m\u001b[0mrequest_uri\u001b[0m\u001b[1;33m,\u001b[0m \u001b[1;33m**\u001b[0m\u001b[0mkw\u001b[0m\u001b[1;33m)\u001b[0m\u001b[1;33m\u001b[0m\u001b[1;33m\u001b[0m\u001b[0m\n\u001b[0m\u001b[0;32m    376\u001b[0m \u001b[1;33m\u001b[0m\u001b[0m\n\u001b[0;32m    377\u001b[0m         \u001b[0mredirect_location\u001b[0m \u001b[1;33m=\u001b[0m \u001b[0mredirect\u001b[0m \u001b[1;32mand\u001b[0m \u001b[0mresponse\u001b[0m\u001b[1;33m.\u001b[0m\u001b[0mget_redirect_location\u001b[0m\u001b[1;33m(\u001b[0m\u001b[1;33m)\u001b[0m\u001b[1;33m\u001b[0m\u001b[1;33m\u001b[0m\u001b[0m\n",
      "\u001b[1;32m~\\anaconda3\\lib\\site-packages\\urllib3\\connectionpool.py\u001b[0m in \u001b[0;36murlopen\u001b[1;34m(self, method, url, body, headers, retries, redirect, assert_same_host, timeout, pool_timeout, release_conn, chunked, body_pos, **response_kw)\u001b[0m\n\u001b[0;32m    697\u001b[0m \u001b[1;33m\u001b[0m\u001b[0m\n\u001b[0;32m    698\u001b[0m             \u001b[1;31m# Make the request on the httplib connection object.\u001b[0m\u001b[1;33m\u001b[0m\u001b[1;33m\u001b[0m\u001b[1;33m\u001b[0m\u001b[0m\n\u001b[1;32m--> 699\u001b[1;33m             httplib_response = self._make_request(\n\u001b[0m\u001b[0;32m    700\u001b[0m                 \u001b[0mconn\u001b[0m\u001b[1;33m,\u001b[0m\u001b[1;33m\u001b[0m\u001b[1;33m\u001b[0m\u001b[0m\n\u001b[0;32m    701\u001b[0m                 \u001b[0mmethod\u001b[0m\u001b[1;33m,\u001b[0m\u001b[1;33m\u001b[0m\u001b[1;33m\u001b[0m\u001b[0m\n",
      "\u001b[1;32m~\\anaconda3\\lib\\site-packages\\urllib3\\connectionpool.py\u001b[0m in \u001b[0;36m_make_request\u001b[1;34m(self, conn, method, url, timeout, chunked, **httplib_request_kw)\u001b[0m\n\u001b[0;32m    443\u001b[0m                     \u001b[1;31m# Python 3 (including for exceptions like SystemExit).\u001b[0m\u001b[1;33m\u001b[0m\u001b[1;33m\u001b[0m\u001b[1;33m\u001b[0m\u001b[0m\n\u001b[0;32m    444\u001b[0m                     \u001b[1;31m# Otherwise it looks like a bug in the code.\u001b[0m\u001b[1;33m\u001b[0m\u001b[1;33m\u001b[0m\u001b[1;33m\u001b[0m\u001b[0m\n\u001b[1;32m--> 445\u001b[1;33m                     \u001b[0msix\u001b[0m\u001b[1;33m.\u001b[0m\u001b[0mraise_from\u001b[0m\u001b[1;33m(\u001b[0m\u001b[0me\u001b[0m\u001b[1;33m,\u001b[0m \u001b[1;32mNone\u001b[0m\u001b[1;33m)\u001b[0m\u001b[1;33m\u001b[0m\u001b[1;33m\u001b[0m\u001b[0m\n\u001b[0m\u001b[0;32m    446\u001b[0m         \u001b[1;32mexcept\u001b[0m \u001b[1;33m(\u001b[0m\u001b[0mSocketTimeout\u001b[0m\u001b[1;33m,\u001b[0m \u001b[0mBaseSSLError\u001b[0m\u001b[1;33m,\u001b[0m \u001b[0mSocketError\u001b[0m\u001b[1;33m)\u001b[0m \u001b[1;32mas\u001b[0m \u001b[0me\u001b[0m\u001b[1;33m:\u001b[0m\u001b[1;33m\u001b[0m\u001b[1;33m\u001b[0m\u001b[0m\n\u001b[0;32m    447\u001b[0m             \u001b[0mself\u001b[0m\u001b[1;33m.\u001b[0m\u001b[0m_raise_timeout\u001b[0m\u001b[1;33m(\u001b[0m\u001b[0merr\u001b[0m\u001b[1;33m=\u001b[0m\u001b[0me\u001b[0m\u001b[1;33m,\u001b[0m \u001b[0murl\u001b[0m\u001b[1;33m=\u001b[0m\u001b[0murl\u001b[0m\u001b[1;33m,\u001b[0m \u001b[0mtimeout_value\u001b[0m\u001b[1;33m=\u001b[0m\u001b[0mread_timeout\u001b[0m\u001b[1;33m)\u001b[0m\u001b[1;33m\u001b[0m\u001b[1;33m\u001b[0m\u001b[0m\n",
      "\u001b[1;32m~\\anaconda3\\lib\\site-packages\\urllib3\\packages\\six.py\u001b[0m in \u001b[0;36mraise_from\u001b[1;34m(value, from_value)\u001b[0m\n",
      "\u001b[1;32m~\\anaconda3\\lib\\site-packages\\urllib3\\connectionpool.py\u001b[0m in \u001b[0;36m_make_request\u001b[1;34m(self, conn, method, url, timeout, chunked, **httplib_request_kw)\u001b[0m\n\u001b[0;32m    438\u001b[0m                 \u001b[1;31m# Python 3\u001b[0m\u001b[1;33m\u001b[0m\u001b[1;33m\u001b[0m\u001b[1;33m\u001b[0m\u001b[0m\n\u001b[0;32m    439\u001b[0m                 \u001b[1;32mtry\u001b[0m\u001b[1;33m:\u001b[0m\u001b[1;33m\u001b[0m\u001b[1;33m\u001b[0m\u001b[0m\n\u001b[1;32m--> 440\u001b[1;33m                     \u001b[0mhttplib_response\u001b[0m \u001b[1;33m=\u001b[0m \u001b[0mconn\u001b[0m\u001b[1;33m.\u001b[0m\u001b[0mgetresponse\u001b[0m\u001b[1;33m(\u001b[0m\u001b[1;33m)\u001b[0m\u001b[1;33m\u001b[0m\u001b[1;33m\u001b[0m\u001b[0m\n\u001b[0m\u001b[0;32m    441\u001b[0m                 \u001b[1;32mexcept\u001b[0m \u001b[0mBaseException\u001b[0m \u001b[1;32mas\u001b[0m \u001b[0me\u001b[0m\u001b[1;33m:\u001b[0m\u001b[1;33m\u001b[0m\u001b[1;33m\u001b[0m\u001b[0m\n\u001b[0;32m    442\u001b[0m                     \u001b[1;31m# Remove the TypeError from the exception chain in\u001b[0m\u001b[1;33m\u001b[0m\u001b[1;33m\u001b[0m\u001b[1;33m\u001b[0m\u001b[0m\n",
      "\u001b[1;32m~\\anaconda3\\lib\\http\\client.py\u001b[0m in \u001b[0;36mgetresponse\u001b[1;34m(self)\u001b[0m\n\u001b[0;32m   1345\u001b[0m         \u001b[1;32mtry\u001b[0m\u001b[1;33m:\u001b[0m\u001b[1;33m\u001b[0m\u001b[1;33m\u001b[0m\u001b[0m\n\u001b[0;32m   1346\u001b[0m             \u001b[1;32mtry\u001b[0m\u001b[1;33m:\u001b[0m\u001b[1;33m\u001b[0m\u001b[1;33m\u001b[0m\u001b[0m\n\u001b[1;32m-> 1347\u001b[1;33m                 \u001b[0mresponse\u001b[0m\u001b[1;33m.\u001b[0m\u001b[0mbegin\u001b[0m\u001b[1;33m(\u001b[0m\u001b[1;33m)\u001b[0m\u001b[1;33m\u001b[0m\u001b[1;33m\u001b[0m\u001b[0m\n\u001b[0m\u001b[0;32m   1348\u001b[0m             \u001b[1;32mexcept\u001b[0m \u001b[0mConnectionError\u001b[0m\u001b[1;33m:\u001b[0m\u001b[1;33m\u001b[0m\u001b[1;33m\u001b[0m\u001b[0m\n\u001b[0;32m   1349\u001b[0m                 \u001b[0mself\u001b[0m\u001b[1;33m.\u001b[0m\u001b[0mclose\u001b[0m\u001b[1;33m(\u001b[0m\u001b[1;33m)\u001b[0m\u001b[1;33m\u001b[0m\u001b[1;33m\u001b[0m\u001b[0m\n",
      "\u001b[1;32m~\\anaconda3\\lib\\http\\client.py\u001b[0m in \u001b[0;36mbegin\u001b[1;34m(self)\u001b[0m\n\u001b[0;32m    305\u001b[0m         \u001b[1;31m# read until we get a non-100 response\u001b[0m\u001b[1;33m\u001b[0m\u001b[1;33m\u001b[0m\u001b[1;33m\u001b[0m\u001b[0m\n\u001b[0;32m    306\u001b[0m         \u001b[1;32mwhile\u001b[0m \u001b[1;32mTrue\u001b[0m\u001b[1;33m:\u001b[0m\u001b[1;33m\u001b[0m\u001b[1;33m\u001b[0m\u001b[0m\n\u001b[1;32m--> 307\u001b[1;33m             \u001b[0mversion\u001b[0m\u001b[1;33m,\u001b[0m \u001b[0mstatus\u001b[0m\u001b[1;33m,\u001b[0m \u001b[0mreason\u001b[0m \u001b[1;33m=\u001b[0m \u001b[0mself\u001b[0m\u001b[1;33m.\u001b[0m\u001b[0m_read_status\u001b[0m\u001b[1;33m(\u001b[0m\u001b[1;33m)\u001b[0m\u001b[1;33m\u001b[0m\u001b[1;33m\u001b[0m\u001b[0m\n\u001b[0m\u001b[0;32m    308\u001b[0m             \u001b[1;32mif\u001b[0m \u001b[0mstatus\u001b[0m \u001b[1;33m!=\u001b[0m \u001b[0mCONTINUE\u001b[0m\u001b[1;33m:\u001b[0m\u001b[1;33m\u001b[0m\u001b[1;33m\u001b[0m\u001b[0m\n\u001b[0;32m    309\u001b[0m                 \u001b[1;32mbreak\u001b[0m\u001b[1;33m\u001b[0m\u001b[1;33m\u001b[0m\u001b[0m\n",
      "\u001b[1;32m~\\anaconda3\\lib\\http\\client.py\u001b[0m in \u001b[0;36m_read_status\u001b[1;34m(self)\u001b[0m\n\u001b[0;32m    266\u001b[0m \u001b[1;33m\u001b[0m\u001b[0m\n\u001b[0;32m    267\u001b[0m     \u001b[1;32mdef\u001b[0m \u001b[0m_read_status\u001b[0m\u001b[1;33m(\u001b[0m\u001b[0mself\u001b[0m\u001b[1;33m)\u001b[0m\u001b[1;33m:\u001b[0m\u001b[1;33m\u001b[0m\u001b[1;33m\u001b[0m\u001b[0m\n\u001b[1;32m--> 268\u001b[1;33m         \u001b[0mline\u001b[0m \u001b[1;33m=\u001b[0m \u001b[0mstr\u001b[0m\u001b[1;33m(\u001b[0m\u001b[0mself\u001b[0m\u001b[1;33m.\u001b[0m\u001b[0mfp\u001b[0m\u001b[1;33m.\u001b[0m\u001b[0mreadline\u001b[0m\u001b[1;33m(\u001b[0m\u001b[0m_MAXLINE\u001b[0m \u001b[1;33m+\u001b[0m \u001b[1;36m1\u001b[0m\u001b[1;33m)\u001b[0m\u001b[1;33m,\u001b[0m \u001b[1;34m\"iso-8859-1\"\u001b[0m\u001b[1;33m)\u001b[0m\u001b[1;33m\u001b[0m\u001b[1;33m\u001b[0m\u001b[0m\n\u001b[0m\u001b[0;32m    269\u001b[0m         \u001b[1;32mif\u001b[0m \u001b[0mlen\u001b[0m\u001b[1;33m(\u001b[0m\u001b[0mline\u001b[0m\u001b[1;33m)\u001b[0m \u001b[1;33m>\u001b[0m \u001b[0m_MAXLINE\u001b[0m\u001b[1;33m:\u001b[0m\u001b[1;33m\u001b[0m\u001b[1;33m\u001b[0m\u001b[0m\n\u001b[0;32m    270\u001b[0m             \u001b[1;32mraise\u001b[0m \u001b[0mLineTooLong\u001b[0m\u001b[1;33m(\u001b[0m\u001b[1;34m\"status line\"\u001b[0m\u001b[1;33m)\u001b[0m\u001b[1;33m\u001b[0m\u001b[1;33m\u001b[0m\u001b[0m\n",
      "\u001b[1;32m~\\anaconda3\\lib\\socket.py\u001b[0m in \u001b[0;36mreadinto\u001b[1;34m(self, b)\u001b[0m\n\u001b[0;32m    667\u001b[0m         \u001b[1;32mwhile\u001b[0m \u001b[1;32mTrue\u001b[0m\u001b[1;33m:\u001b[0m\u001b[1;33m\u001b[0m\u001b[1;33m\u001b[0m\u001b[0m\n\u001b[0;32m    668\u001b[0m             \u001b[1;32mtry\u001b[0m\u001b[1;33m:\u001b[0m\u001b[1;33m\u001b[0m\u001b[1;33m\u001b[0m\u001b[0m\n\u001b[1;32m--> 669\u001b[1;33m                 \u001b[1;32mreturn\u001b[0m \u001b[0mself\u001b[0m\u001b[1;33m.\u001b[0m\u001b[0m_sock\u001b[0m\u001b[1;33m.\u001b[0m\u001b[0mrecv_into\u001b[0m\u001b[1;33m(\u001b[0m\u001b[0mb\u001b[0m\u001b[1;33m)\u001b[0m\u001b[1;33m\u001b[0m\u001b[1;33m\u001b[0m\u001b[0m\n\u001b[0m\u001b[0;32m    670\u001b[0m             \u001b[1;32mexcept\u001b[0m \u001b[0mtimeout\u001b[0m\u001b[1;33m:\u001b[0m\u001b[1;33m\u001b[0m\u001b[1;33m\u001b[0m\u001b[0m\n\u001b[0;32m    671\u001b[0m                 \u001b[0mself\u001b[0m\u001b[1;33m.\u001b[0m\u001b[0m_timeout_occurred\u001b[0m \u001b[1;33m=\u001b[0m \u001b[1;32mTrue\u001b[0m\u001b[1;33m\u001b[0m\u001b[1;33m\u001b[0m\u001b[0m\n",
      "\u001b[1;31mKeyboardInterrupt\u001b[0m: "
     ]
    }
   ],
   "source": [
    "%%time\n",
    "\n",
    "\n",
    "time_out = time.time() + 60*20 # 20 min from now\n",
    "\n",
    "for ele in link:\n",
    "    try:\n",
    "        options = FirefoxOptions()\n",
    "        options.add_argument(\"--headless\")\n",
    "        driver = webdriver.Firefox(options=options)\n",
    "        \n",
    "        driver.get(ele)\n",
    "        content = driver.page_source\n",
    "        \n",
    "    \n",
    "    finally:\n",
    "        try:\n",
    "            driver.close()\n",
    "        except:\n",
    "            pass\n",
    "        \n",
    "\n",
    "    soup = BeautifulSoup(content, features = \"html.parser\")\n",
    "    \n",
    "   \n",
    "    #names\n",
    "    title = soup.find('title')\n",
    "    if title is None:\n",
    "        title.append(np.NaN)\n",
    "    else:\n",
    "        name.append(title.text)\n",
    "    \n",
    "   \n",
    "    #address\n",
    "    addrs = soup.find('span', attrs = {'name':'company_address'})\n",
    "    if addrs is None:\n",
    "        address.append(np.NaN)\n",
    "    else:\n",
    "        address.append(addrs.text)\n",
    "    \n",
    "\n",
    "    #number\n",
    "    num = soup.find('span', attrs = {'name': 'company_phone'})\n",
    "    if num is None:\n",
    "        number.append(np.NaN)\n",
    "    else:\n",
    "        number.append(num.text)\n",
    "   \n",
    "    #year\n",
    "    yr = soup.find('span', attrs = {'name': 'year_incorporated'})\n",
    "    if yr is None:\n",
    "        year.append(np.NaN)\n",
    "    else:\n",
    "        year.append(yr.text)\n",
    "    \n",
    "    \n",
    "    #employees\n",
    "    em = soup.find('span', attrs = {'name': 'employees_all_site'})\n",
    "    if em is None:\n",
    "        employee.append(np.NaN)\n",
    "    else:\n",
    "        employee.append(em.text)\n",
    "    \n",
    "    #url\n",
    "    url.append(ele)\n",
    "    completed.append(ele)\n",
    "    \n",
    "    print('Data Scraped Successfully')\n",
    "    \n",
    "    \n",
    "    if time.time() > time_out:\n",
    "        break\n"
   ]
  },
  {
   "cell_type": "markdown",
   "id": "2cd12f94",
   "metadata": {},
   "source": [
    "**Keyboard interruption Only to show sample output**"
   ]
  },
  {
   "cell_type": "code",
   "execution_count": 9,
   "id": "242af13f",
   "metadata": {},
   "outputs": [
    {
     "name": "stdout",
     "output_type": "stream",
     "text": [
      "6\n",
      "6\n",
      "6\n",
      "6\n",
      "6\n",
      "6\n"
     ]
    }
   ],
   "source": [
    "print(len(name))\n",
    "print(len(address))\n",
    "print(len(number))\n",
    "print(len(year))\n",
    "print(len(employee))\n",
    "print(len(url))"
   ]
  },
  {
   "cell_type": "raw",
   "id": "91215e13",
   "metadata": {},
   "source": [
    "# You need to run web scraping program several times so it is required to remove URL link from list\n",
    "for ele in completed:\n",
    "    if ele in link:\n",
    "        link.remove(ele) "
   ]
  },
  {
   "cell_type": "markdown",
   "id": "6f5b79f8",
   "metadata": {},
   "source": [
    "* Still, data is unstructured so it requires to extract the details and processed information using regex and saved all the values which is appended in empty list in pandas `dataframe`."
   ]
  },
  {
   "cell_type": "markdown",
   "id": "19987b2c",
   "metadata": {},
   "source": [
    "* Pandas is a software library written for the Python programming language for data manipulation and analysis. In particular, it offers data structures and operations for manipulating numerical tables and time series."
   ]
  },
  {
   "cell_type": "markdown",
   "id": "2605cab1",
   "metadata": {},
   "source": [
    "* Data manipulation has been performed there are some entries included construction companies details of other than Tamil Nadu state. \n",
    "* But, In the problem statement has mentioned only Construction companies in Tamil Nadu is only required. \n",
    "* For that, I have **sorted** and transformed dataframe to get structured data and exported as an Excel file. \n",
    "* Also, I have created unstructured dataset in .csv and .txt format."
   ]
  },
  {
   "cell_type": "markdown",
   "id": "b2e5fe83",
   "metadata": {},
   "source": [
    "### Create Pandas DataFrame and export raw data into .csv() format"
   ]
  },
  {
   "cell_type": "code",
   "execution_count": 10,
   "id": "58d1b960",
   "metadata": {},
   "outputs": [],
   "source": [
    "result = pd.DataFrame({'Company Name' : name, 'Address': address, 'Number': number, \n",
    "                       'Employees': employee, 'Year': year , 'Url': url })"
   ]
  },
  {
   "cell_type": "code",
   "execution_count": 11,
   "id": "a7b46cec",
   "metadata": {},
   "outputs": [],
   "source": [
    "result.to_csv('Company_raw_data.csv', index = False)"
   ]
  },
  {
   "cell_type": "code",
   "execution_count": 12,
   "id": "63dd74a5",
   "metadata": {},
   "outputs": [],
   "source": [
    "data = pd.read_csv('Company_raw_data.csv')"
   ]
  },
  {
   "cell_type": "code",
   "execution_count": 13,
   "id": "ea6a1e00",
   "metadata": {},
   "outputs": [
    {
     "data": {
      "text/plain": [
       "(6, 6)"
      ]
     },
     "execution_count": 13,
     "metadata": {},
     "output_type": "execute_result"
    }
   ],
   "source": [
    "data.shape"
   ]
  },
  {
   "cell_type": "code",
   "execution_count": 14,
   "id": "d31a50fd",
   "metadata": {},
   "outputs": [
    {
     "data": {
      "text/plain": [
       "Index(['Company Name', 'Address', 'Number', 'Employees', 'Year', 'Url'], dtype='object')"
      ]
     },
     "execution_count": 14,
     "metadata": {},
     "output_type": "execute_result"
    }
   ],
   "source": [
    "data.columns"
   ]
  },
  {
   "cell_type": "code",
   "execution_count": 15,
   "id": "ef868df6",
   "metadata": {},
   "outputs": [
    {
     "name": "stdout",
     "output_type": "stream",
     "text": [
      "<class 'pandas.core.frame.DataFrame'>\n",
      "RangeIndex: 6 entries, 0 to 5\n",
      "Data columns (total 6 columns):\n",
      " #   Column        Non-Null Count  Dtype \n",
      "---  ------        --------------  ----- \n",
      " 0   Company Name  6 non-null      object\n",
      " 1   Address       6 non-null      object\n",
      " 2   Number        5 non-null      object\n",
      " 3   Employees     6 non-null      object\n",
      " 4   Year          6 non-null      object\n",
      " 5   Url           6 non-null      object\n",
      "dtypes: object(6)\n",
      "memory usage: 416.0+ bytes\n"
     ]
    }
   ],
   "source": [
    "data.info()"
   ]
  },
  {
   "cell_type": "code",
   "execution_count": 16,
   "id": "a5a57972",
   "metadata": {},
   "outputs": [
    {
     "data": {
      "text/html": [
       "<div>\n",
       "<style scoped>\n",
       "    .dataframe tbody tr th:only-of-type {\n",
       "        vertical-align: middle;\n",
       "    }\n",
       "\n",
       "    .dataframe tbody tr th {\n",
       "        vertical-align: top;\n",
       "    }\n",
       "\n",
       "    .dataframe thead th {\n",
       "        text-align: right;\n",
       "    }\n",
       "</style>\n",
       "<table border=\"1\" class=\"dataframe\">\n",
       "  <thead>\n",
       "    <tr style=\"text-align: right;\">\n",
       "      <th></th>\n",
       "      <th>Company Name</th>\n",
       "      <th>Address</th>\n",
       "      <th>Number</th>\n",
       "      <th>Employees</th>\n",
       "      <th>Year</th>\n",
       "      <th>Url</th>\n",
       "    </tr>\n",
       "  </thead>\n",
       "  <tbody>\n",
       "    <tr>\n",
       "      <th>0</th>\n",
       "      <td>CCCL POWER INFRASTRUCTURE LIMITED Company Prof...</td>\n",
       "      <td>\\nAddress:\\n\\n                                ...</td>\n",
       "      <td>\\nPhone:\\n+91-4423454500\\n</td>\n",
       "      <td>\\nEmployees (all sites):\\n   3,100\\n\\n\\n\\nEsti...</td>\n",
       "      <td>\\nIncorporated:\\n2010\\n</td>\n",
       "      <td>https://www.dnb.com/business-directory/company...</td>\n",
       "    </tr>\n",
       "    <tr>\n",
       "      <th>1</th>\n",
       "      <td>GSH FACILITIES MANAGEMENT SERVICES PRIVATE LIM...</td>\n",
       "      <td>\\nAddress:\\n\\n                                ...</td>\n",
       "      <td>\\nPhone:\\n+91-9043066694\\n</td>\n",
       "      <td>\\nEmployees (all sites):\\n   1,477\\n\\n\\n\\nActu...</td>\n",
       "      <td>\\nIncorporated:\\n2015\\n</td>\n",
       "      <td>https://www.dnb.com/business-directory/company...</td>\n",
       "    </tr>\n",
       "    <tr>\n",
       "      <th>2</th>\n",
       "      <td>THRIVENI EARTHMOVERS PRIVATE LIMITED Company P...</td>\n",
       "      <td>\\nAddress:\\n\\n                                ...</td>\n",
       "      <td>\\nPhone:\\n+91-8025743563\\n</td>\n",
       "      <td>\\nEmployees (all sites):\\n   7,159\\n\\n\\n\\nEsti...</td>\n",
       "      <td>\\nIncorporated:\\n1999\\n</td>\n",
       "      <td>https://www.dnb.com/business-directory/company...</td>\n",
       "    </tr>\n",
       "    <tr>\n",
       "      <th>3</th>\n",
       "      <td>FPL AUTOMOBILES PRIVATE LIMITED Company Profil...</td>\n",
       "      <td>\\nAddress:\\n\\n                                ...</td>\n",
       "      <td>\\nPhone:\\n+91-8438010336\\n</td>\n",
       "      <td>\\nEmployees (all sites):\\n     487\\n\\n\\n\\nActu...</td>\n",
       "      <td>\\nIncorporated:\\n2014\\n</td>\n",
       "      <td>https://www.dnb.com/business-directory/company...</td>\n",
       "    </tr>\n",
       "    <tr>\n",
       "      <th>4</th>\n",
       "      <td>REGEN POWERTECH PRIVATE LIMITED Company Profil...</td>\n",
       "      <td>\\nAddress:\\n\\n                                ...</td>\n",
       "      <td>NaN</td>\n",
       "      <td>\\nEmployees (all sites):\\n     345\\n\\n\\n\\nActu...</td>\n",
       "      <td>\\nIncorporated:\\n2006\\n</td>\n",
       "      <td>https://www.dnb.com/business-directory/company...</td>\n",
       "    </tr>\n",
       "  </tbody>\n",
       "</table>\n",
       "</div>"
      ],
      "text/plain": [
       "                                        Company Name  \\\n",
       "0  CCCL POWER INFRASTRUCTURE LIMITED Company Prof...   \n",
       "1  GSH FACILITIES MANAGEMENT SERVICES PRIVATE LIM...   \n",
       "2  THRIVENI EARTHMOVERS PRIVATE LIMITED Company P...   \n",
       "3  FPL AUTOMOBILES PRIVATE LIMITED Company Profil...   \n",
       "4  REGEN POWERTECH PRIVATE LIMITED Company Profil...   \n",
       "\n",
       "                                             Address  \\\n",
       "0  \\nAddress:\\n\\n                                ...   \n",
       "1  \\nAddress:\\n\\n                                ...   \n",
       "2  \\nAddress:\\n\\n                                ...   \n",
       "3  \\nAddress:\\n\\n                                ...   \n",
       "4  \\nAddress:\\n\\n                                ...   \n",
       "\n",
       "                       Number  \\\n",
       "0  \\nPhone:\\n+91-4423454500\\n   \n",
       "1  \\nPhone:\\n+91-9043066694\\n   \n",
       "2  \\nPhone:\\n+91-8025743563\\n   \n",
       "3  \\nPhone:\\n+91-8438010336\\n   \n",
       "4                         NaN   \n",
       "\n",
       "                                           Employees                     Year  \\\n",
       "0  \\nEmployees (all sites):\\n   3,100\\n\\n\\n\\nEsti...  \\nIncorporated:\\n2010\\n   \n",
       "1  \\nEmployees (all sites):\\n   1,477\\n\\n\\n\\nActu...  \\nIncorporated:\\n2015\\n   \n",
       "2  \\nEmployees (all sites):\\n   7,159\\n\\n\\n\\nEsti...  \\nIncorporated:\\n1999\\n   \n",
       "3  \\nEmployees (all sites):\\n     487\\n\\n\\n\\nActu...  \\nIncorporated:\\n2014\\n   \n",
       "4  \\nEmployees (all sites):\\n     345\\n\\n\\n\\nActu...  \\nIncorporated:\\n2006\\n   \n",
       "\n",
       "                                                 Url  \n",
       "0  https://www.dnb.com/business-directory/company...  \n",
       "1  https://www.dnb.com/business-directory/company...  \n",
       "2  https://www.dnb.com/business-directory/company...  \n",
       "3  https://www.dnb.com/business-directory/company...  \n",
       "4  https://www.dnb.com/business-directory/company...  "
      ]
     },
     "execution_count": 16,
     "metadata": {},
     "output_type": "execute_result"
    }
   ],
   "source": [
    "data.head()"
   ]
  },
  {
   "cell_type": "markdown",
   "id": "fc209dbc",
   "metadata": {},
   "source": [
    "### Extracting the details using Regex"
   ]
  },
  {
   "cell_type": "code",
   "execution_count": 17,
   "id": "b1045107",
   "metadata": {},
   "outputs": [],
   "source": [
    "# Processed Information Company Name\n",
    "\n",
    "regex = r'(.+?Profile)'\n",
    "\n",
    "data['Name'] = data['Company Name'].apply(lambda x : re.findall(regex, x))"
   ]
  },
  {
   "cell_type": "code",
   "execution_count": 18,
   "id": "b68f3aff",
   "metadata": {},
   "outputs": [],
   "source": [
    "# Processed Information Address\n",
    "regex = r'(?:[\\w]|[\\d]+\\s|Road|Tamil\\s[\\d]|India).*'\n",
    "\n",
    "data['Company Address'] = data['Address'].apply(lambda x : re.findall(regex, x))"
   ]
  },
  {
   "cell_type": "code",
   "execution_count": 19,
   "id": "e3180b12",
   "metadata": {},
   "outputs": [],
   "source": [
    "# process information city\n",
    "\n",
    "regex = r'(?:Profile).*India' \n",
    "\n",
    "data['Location'] = data['Company Name'].apply(lambda x : re.findall(regex, x))"
   ]
  },
  {
   "cell_type": "code",
   "execution_count": 20,
   "id": "9d5a5721",
   "metadata": {},
   "outputs": [
    {
     "data": {
      "text/plain": [
       "['Profile | Chennai, Tamil Nadu, India']"
      ]
     },
     "execution_count": 20,
     "metadata": {},
     "output_type": "execute_result"
    }
   ],
   "source": [
    "data['Location'][0]"
   ]
  },
  {
   "cell_type": "code",
   "execution_count": 21,
   "id": "c7dddf29",
   "metadata": {},
   "outputs": [],
   "source": [
    "# Processed Information Number\n",
    "\n",
    "regex = r'(\\+\\d+.\\d+.)'\n",
    "data['Phone Number'] = data['Number'].apply(lambda x : re.findall(regex, str(x))) "
   ]
  },
  {
   "cell_type": "code",
   "execution_count": 22,
   "id": "4d787c92",
   "metadata": {},
   "outputs": [],
   "source": [
    "# Processed Information No of Employees\n",
    "\n",
    "regex = r'\\d+'\n",
    "\n",
    "data['Employees all sites'] = data['Employees'].apply(lambda x : re.findall(regex, str(x)))"
   ]
  },
  {
   "cell_type": "code",
   "execution_count": 23,
   "id": "1742e6b9",
   "metadata": {},
   "outputs": [],
   "source": [
    "# Processed Information Incorporated Year\n",
    "\n",
    "regex = r'\\d+'\n",
    "\n",
    "data['Year Incorporated'] = data['Year'].apply(lambda x : re.findall(regex, str(x)))"
   ]
  },
  {
   "cell_type": "code",
   "execution_count": 24,
   "id": "088054ed",
   "metadata": {},
   "outputs": [
    {
     "data": {
      "text/plain": [
       "Company Name           0\n",
       "Address                0\n",
       "Number                 1\n",
       "Employees              0\n",
       "Year                   0\n",
       "Url                    0\n",
       "Name                   0\n",
       "Company Address        0\n",
       "Location               0\n",
       "Phone Number           0\n",
       "Employees all sites    0\n",
       "Year Incorporated      0\n",
       "dtype: int64"
      ]
     },
     "execution_count": 24,
     "metadata": {},
     "output_type": "execute_result"
    }
   ],
   "source": [
    "# Missing Values\n",
    "\n",
    "data.isnull().sum()"
   ]
  },
  {
   "cell_type": "code",
   "execution_count": 25,
   "id": "f4283dc1",
   "metadata": {},
   "outputs": [
    {
     "data": {
      "text/plain": [
       "['Address:',\n",
       " '22/110, Greenways Road Fairlands Salem, Tamil Nadu, 636016 India',\n",
       " 'See other locations']"
      ]
     },
     "execution_count": 25,
     "metadata": {},
     "output_type": "execute_result"
    }
   ],
   "source": [
    "data['Company Address'][2]"
   ]
  },
  {
   "cell_type": "code",
   "execution_count": 26,
   "id": "12d875e3",
   "metadata": {},
   "outputs": [],
   "source": [
    "data['Name'] = data['Name'].apply(lambda x : ''.join(x))\n",
    "data['Company Address'] = data['Company Address'].apply(lambda x : ''.join(x))\n",
    "data['Location'] = data['Location'].apply(lambda x : ''.join(x))\n",
    "data['Phone Number'] = data['Phone Number'].apply(lambda x : ''.join(x))\n",
    "data['Employees all sites'] = data['Employees all sites'].apply(lambda x : ''.join(x))\n",
    "data['Year Incorporated'] = data['Year Incorporated'].apply(lambda x : ''.join(x))"
   ]
  },
  {
   "cell_type": "code",
   "execution_count": 27,
   "id": "ac6c1121",
   "metadata": {},
   "outputs": [
    {
     "data": {
      "text/html": [
       "<div>\n",
       "<style scoped>\n",
       "    .dataframe tbody tr th:only-of-type {\n",
       "        vertical-align: middle;\n",
       "    }\n",
       "\n",
       "    .dataframe tbody tr th {\n",
       "        vertical-align: top;\n",
       "    }\n",
       "\n",
       "    .dataframe thead th {\n",
       "        text-align: right;\n",
       "    }\n",
       "</style>\n",
       "<table border=\"1\" class=\"dataframe\">\n",
       "  <thead>\n",
       "    <tr style=\"text-align: right;\">\n",
       "      <th></th>\n",
       "      <th>Company Name</th>\n",
       "      <th>Address</th>\n",
       "      <th>Number</th>\n",
       "      <th>Employees</th>\n",
       "      <th>Year</th>\n",
       "      <th>Url</th>\n",
       "      <th>Name</th>\n",
       "      <th>Company Address</th>\n",
       "      <th>Location</th>\n",
       "      <th>Phone Number</th>\n",
       "      <th>Employees all sites</th>\n",
       "      <th>Year Incorporated</th>\n",
       "    </tr>\n",
       "  </thead>\n",
       "  <tbody>\n",
       "    <tr>\n",
       "      <th>0</th>\n",
       "      <td>CCCL POWER INFRASTRUCTURE LIMITED Company Prof...</td>\n",
       "      <td>\\nAddress:\\n\\n                                ...</td>\n",
       "      <td>\\nPhone:\\n+91-4423454500\\n</td>\n",
       "      <td>\\nEmployees (all sites):\\n   3,100\\n\\n\\n\\nEsti...</td>\n",
       "      <td>\\nIncorporated:\\n2010\\n</td>\n",
       "      <td>https://www.dnb.com/business-directory/company...</td>\n",
       "      <td>CCCL POWER INFRASTRUCTURE LIMITED Company Profile</td>\n",
       "      <td>Address:No.5, II Link Street C.I.T. Colony, My...</td>\n",
       "      <td>Profile | Chennai, Tamil Nadu, India</td>\n",
       "      <td>+91-4423454500</td>\n",
       "      <td>3100</td>\n",
       "      <td>2010</td>\n",
       "    </tr>\n",
       "    <tr>\n",
       "      <th>1</th>\n",
       "      <td>GSH FACILITIES MANAGEMENT SERVICES PRIVATE LIM...</td>\n",
       "      <td>\\nAddress:\\n\\n                                ...</td>\n",
       "      <td>\\nPhone:\\n+91-9043066694\\n</td>\n",
       "      <td>\\nEmployees (all sites):\\n   1,477\\n\\n\\n\\nActu...</td>\n",
       "      <td>\\nIncorporated:\\n2015\\n</td>\n",
       "      <td>https://www.dnb.com/business-directory/company...</td>\n",
       "      <td>GSH FACILITIES MANAGEMENT SERVICES PRIVATE LIM...</td>\n",
       "      <td>Address:NEW NO 14, OLD NO 20, THIRU-VI-KA III ...</td>\n",
       "      <td>Profile | Chennai, Tamil Nadu, India</td>\n",
       "      <td>+91-9043066694</td>\n",
       "      <td>1477</td>\n",
       "      <td>2015</td>\n",
       "    </tr>\n",
       "    <tr>\n",
       "      <th>2</th>\n",
       "      <td>THRIVENI EARTHMOVERS PRIVATE LIMITED Company P...</td>\n",
       "      <td>\\nAddress:\\n\\n                                ...</td>\n",
       "      <td>\\nPhone:\\n+91-8025743563\\n</td>\n",
       "      <td>\\nEmployees (all sites):\\n   7,159\\n\\n\\n\\nEsti...</td>\n",
       "      <td>\\nIncorporated:\\n1999\\n</td>\n",
       "      <td>https://www.dnb.com/business-directory/company...</td>\n",
       "      <td>THRIVENI EARTHMOVERS PRIVATE LIMITED Company P...</td>\n",
       "      <td>Address:22/110, Greenways Road Fairlands Salem...</td>\n",
       "      <td>Profile | Salem, Tamil Nadu, India</td>\n",
       "      <td>+91-8025743563</td>\n",
       "      <td>7159</td>\n",
       "      <td>1999</td>\n",
       "    </tr>\n",
       "    <tr>\n",
       "      <th>3</th>\n",
       "      <td>FPL AUTOMOBILES PRIVATE LIMITED Company Profil...</td>\n",
       "      <td>\\nAddress:\\n\\n                                ...</td>\n",
       "      <td>\\nPhone:\\n+91-8438010336\\n</td>\n",
       "      <td>\\nEmployees (all sites):\\n     487\\n\\n\\n\\nActu...</td>\n",
       "      <td>\\nIncorporated:\\n2014\\n</td>\n",
       "      <td>https://www.dnb.com/business-directory/company...</td>\n",
       "      <td>FPL AUTOMOBILES PRIVATE LIMITED Company Profile</td>\n",
       "      <td>Address:L-6,Sidco Industrial Estate, Vavin Amb...</td>\n",
       "      <td>Profile | Chennai, Tamil Nadu, India</td>\n",
       "      <td>+91-8438010336</td>\n",
       "      <td>487</td>\n",
       "      <td>2014</td>\n",
       "    </tr>\n",
       "    <tr>\n",
       "      <th>4</th>\n",
       "      <td>REGEN POWERTECH PRIVATE LIMITED Company Profil...</td>\n",
       "      <td>\\nAddress:\\n\\n                                ...</td>\n",
       "      <td>NaN</td>\n",
       "      <td>\\nEmployees (all sites):\\n     345\\n\\n\\n\\nActu...</td>\n",
       "      <td>\\nIncorporated:\\n2006\\n</td>\n",
       "      <td>https://www.dnb.com/business-directory/company...</td>\n",
       "      <td>REGEN POWERTECH PRIVATE LIMITED Company Profile</td>\n",
       "      <td>Address:KRM Plaza,8th Floor,North Tower No. 2,...</td>\n",
       "      <td>Profile | Chennai, Tamil Nadu, India</td>\n",
       "      <td></td>\n",
       "      <td>345</td>\n",
       "      <td>2006</td>\n",
       "    </tr>\n",
       "  </tbody>\n",
       "</table>\n",
       "</div>"
      ],
      "text/plain": [
       "                                        Company Name  \\\n",
       "0  CCCL POWER INFRASTRUCTURE LIMITED Company Prof...   \n",
       "1  GSH FACILITIES MANAGEMENT SERVICES PRIVATE LIM...   \n",
       "2  THRIVENI EARTHMOVERS PRIVATE LIMITED Company P...   \n",
       "3  FPL AUTOMOBILES PRIVATE LIMITED Company Profil...   \n",
       "4  REGEN POWERTECH PRIVATE LIMITED Company Profil...   \n",
       "\n",
       "                                             Address  \\\n",
       "0  \\nAddress:\\n\\n                                ...   \n",
       "1  \\nAddress:\\n\\n                                ...   \n",
       "2  \\nAddress:\\n\\n                                ...   \n",
       "3  \\nAddress:\\n\\n                                ...   \n",
       "4  \\nAddress:\\n\\n                                ...   \n",
       "\n",
       "                       Number  \\\n",
       "0  \\nPhone:\\n+91-4423454500\\n   \n",
       "1  \\nPhone:\\n+91-9043066694\\n   \n",
       "2  \\nPhone:\\n+91-8025743563\\n   \n",
       "3  \\nPhone:\\n+91-8438010336\\n   \n",
       "4                         NaN   \n",
       "\n",
       "                                           Employees                     Year  \\\n",
       "0  \\nEmployees (all sites):\\n   3,100\\n\\n\\n\\nEsti...  \\nIncorporated:\\n2010\\n   \n",
       "1  \\nEmployees (all sites):\\n   1,477\\n\\n\\n\\nActu...  \\nIncorporated:\\n2015\\n   \n",
       "2  \\nEmployees (all sites):\\n   7,159\\n\\n\\n\\nEsti...  \\nIncorporated:\\n1999\\n   \n",
       "3  \\nEmployees (all sites):\\n     487\\n\\n\\n\\nActu...  \\nIncorporated:\\n2014\\n   \n",
       "4  \\nEmployees (all sites):\\n     345\\n\\n\\n\\nActu...  \\nIncorporated:\\n2006\\n   \n",
       "\n",
       "                                                 Url  \\\n",
       "0  https://www.dnb.com/business-directory/company...   \n",
       "1  https://www.dnb.com/business-directory/company...   \n",
       "2  https://www.dnb.com/business-directory/company...   \n",
       "3  https://www.dnb.com/business-directory/company...   \n",
       "4  https://www.dnb.com/business-directory/company...   \n",
       "\n",
       "                                                Name  \\\n",
       "0  CCCL POWER INFRASTRUCTURE LIMITED Company Profile   \n",
       "1  GSH FACILITIES MANAGEMENT SERVICES PRIVATE LIM...   \n",
       "2  THRIVENI EARTHMOVERS PRIVATE LIMITED Company P...   \n",
       "3    FPL AUTOMOBILES PRIVATE LIMITED Company Profile   \n",
       "4    REGEN POWERTECH PRIVATE LIMITED Company Profile   \n",
       "\n",
       "                                     Company Address  \\\n",
       "0  Address:No.5, II Link Street C.I.T. Colony, My...   \n",
       "1  Address:NEW NO 14, OLD NO 20, THIRU-VI-KA III ...   \n",
       "2  Address:22/110, Greenways Road Fairlands Salem...   \n",
       "3  Address:L-6,Sidco Industrial Estate, Vavin Amb...   \n",
       "4  Address:KRM Plaza,8th Floor,North Tower No. 2,...   \n",
       "\n",
       "                               Location    Phone Number Employees all sites  \\\n",
       "0  Profile | Chennai, Tamil Nadu, India  +91-4423454500                3100   \n",
       "1  Profile | Chennai, Tamil Nadu, India  +91-9043066694                1477   \n",
       "2    Profile | Salem, Tamil Nadu, India  +91-8025743563                7159   \n",
       "3  Profile | Chennai, Tamil Nadu, India  +91-8438010336                 487   \n",
       "4  Profile | Chennai, Tamil Nadu, India                                 345   \n",
       "\n",
       "  Year Incorporated  \n",
       "0              2010  \n",
       "1              2015  \n",
       "2              1999  \n",
       "3              2014  \n",
       "4              2006  "
      ]
     },
     "execution_count": 27,
     "metadata": {},
     "output_type": "execute_result"
    }
   ],
   "source": [
    "data.head()"
   ]
  },
  {
   "cell_type": "code",
   "execution_count": 28,
   "id": "02ad27b5",
   "metadata": {},
   "outputs": [],
   "source": [
    "data.drop(['Address','Company Name','Number','Employees','Year'], axis = 1, inplace = True)"
   ]
  },
  {
   "cell_type": "code",
   "execution_count": 29,
   "id": "4b6c9a43",
   "metadata": {},
   "outputs": [
    {
     "data": {
      "text/plain": [
       "Index(['Url', 'Name', 'Company Address', 'Location', 'Phone Number',\n",
       "       'Employees all sites', 'Year Incorporated'],\n",
       "      dtype='object')"
      ]
     },
     "execution_count": 29,
     "metadata": {},
     "output_type": "execute_result"
    }
   ],
   "source": [
    "data.columns"
   ]
  },
  {
   "cell_type": "code",
   "execution_count": 30,
   "id": "5582020e",
   "metadata": {},
   "outputs": [
    {
     "data": {
      "text/plain": [
       "Url                    0\n",
       "Name                   0\n",
       "Company Address        0\n",
       "Location               0\n",
       "Phone Number           0\n",
       "Employees all sites    0\n",
       "Year Incorporated      0\n",
       "dtype: int64"
      ]
     },
     "execution_count": 30,
     "metadata": {},
     "output_type": "execute_result"
    }
   ],
   "source": [
    "data.isnull().sum()"
   ]
  },
  {
   "cell_type": "code",
   "execution_count": 31,
   "id": "76e709c7",
   "metadata": {},
   "outputs": [],
   "source": [
    "data['Company Address'] = data['Company Address'].apply(lambda x : str(x).lstrip('Address:').rstrip('See other locations'))"
   ]
  },
  {
   "cell_type": "code",
   "execution_count": 32,
   "id": "9a8d9c78",
   "metadata": {},
   "outputs": [],
   "source": [
    "data['Name'] = data['Name'].apply(lambda x : str(x).rstrip('Company Profile'))"
   ]
  },
  {
   "cell_type": "code",
   "execution_count": 33,
   "id": "51307c00",
   "metadata": {},
   "outputs": [],
   "source": [
    "data['Location'] = data['Location'].apply(lambda x : str(x).lstrip('Profile |'))"
   ]
  },
  {
   "cell_type": "code",
   "execution_count": 34,
   "id": "cc03e7a7",
   "metadata": {},
   "outputs": [
    {
     "data": {
      "text/plain": [
       "'Salem, Tamil Nadu, India'"
      ]
     },
     "execution_count": 34,
     "metadata": {},
     "output_type": "execute_result"
    }
   ],
   "source": [
    "data['Location'][2]"
   ]
  },
  {
   "cell_type": "code",
   "execution_count": 35,
   "id": "3b4dbca3",
   "metadata": {},
   "outputs": [],
   "source": [
    "data['Company Address'] = data['Company Address'].apply(lambda x: str(x).replace('Ind','India'))"
   ]
  },
  {
   "cell_type": "code",
   "execution_count": 36,
   "id": "ebcad729",
   "metadata": {},
   "outputs": [
    {
     "data": {
      "text/plain": [
       "'22/110, Greenways Road Fairlands Salem, Tamil Nadu, 636016 India'"
      ]
     },
     "execution_count": 36,
     "metadata": {},
     "output_type": "execute_result"
    }
   ],
   "source": [
    "data['Company Address'][2]"
   ]
  },
  {
   "cell_type": "code",
   "execution_count": 37,
   "id": "3a28121a",
   "metadata": {},
   "outputs": [],
   "source": [
    "data = data[['Name','Company Address','Location','Phone Number','Employees all sites','Year Incorporated','Url']]"
   ]
  },
  {
   "cell_type": "code",
   "execution_count": 38,
   "id": "a686695c",
   "metadata": {},
   "outputs": [
    {
     "data": {
      "text/html": [
       "<div>\n",
       "<style scoped>\n",
       "    .dataframe tbody tr th:only-of-type {\n",
       "        vertical-align: middle;\n",
       "    }\n",
       "\n",
       "    .dataframe tbody tr th {\n",
       "        vertical-align: top;\n",
       "    }\n",
       "\n",
       "    .dataframe thead th {\n",
       "        text-align: right;\n",
       "    }\n",
       "</style>\n",
       "<table border=\"1\" class=\"dataframe\">\n",
       "  <thead>\n",
       "    <tr style=\"text-align: right;\">\n",
       "      <th></th>\n",
       "      <th>Name</th>\n",
       "      <th>Company Address</th>\n",
       "      <th>Location</th>\n",
       "      <th>Phone Number</th>\n",
       "      <th>Employees all sites</th>\n",
       "      <th>Year Incorporated</th>\n",
       "      <th>Url</th>\n",
       "    </tr>\n",
       "  </thead>\n",
       "  <tbody>\n",
       "    <tr>\n",
       "      <th>0</th>\n",
       "      <td>CCCL POWER INFRASTRUCTURE LIMITED</td>\n",
       "      <td>No.5, II Link Street C.I.T. Colony, Mylapore C...</td>\n",
       "      <td>Chennai, Tamil Nadu, India</td>\n",
       "      <td>+91-4423454500</td>\n",
       "      <td>3100</td>\n",
       "      <td>2010</td>\n",
       "      <td>https://www.dnb.com/business-directory/company...</td>\n",
       "    </tr>\n",
       "    <tr>\n",
       "      <th>1</th>\n",
       "      <td>GSH FACILITIES MANAGEMENT SERVICES PRIVATE LIM...</td>\n",
       "      <td>NEW NO 14, OLD NO 20, THIRU-VI-KA III STREET, ...</td>\n",
       "      <td>Chennai, Tamil Nadu, India</td>\n",
       "      <td>+91-9043066694</td>\n",
       "      <td>1477</td>\n",
       "      <td>2015</td>\n",
       "      <td>https://www.dnb.com/business-directory/company...</td>\n",
       "    </tr>\n",
       "    <tr>\n",
       "      <th>2</th>\n",
       "      <td>THRIVENI EARTHMOVERS PRIVATE LIMITED</td>\n",
       "      <td>22/110, Greenways Road Fairlands Salem, Tamil ...</td>\n",
       "      <td>Salem, Tamil Nadu, India</td>\n",
       "      <td>+91-8025743563</td>\n",
       "      <td>7159</td>\n",
       "      <td>1999</td>\n",
       "      <td>https://www.dnb.com/business-directory/company...</td>\n",
       "    </tr>\n",
       "    <tr>\n",
       "      <th>3</th>\n",
       "      <td>FPL AUTOMOBILES PRIVATE LIMITED</td>\n",
       "      <td>L-6,Sidco Indiaustrial Estate, Vavin Ambattur ...</td>\n",
       "      <td>Chennai, Tamil Nadu, India</td>\n",
       "      <td>+91-8438010336</td>\n",
       "      <td>487</td>\n",
       "      <td>2014</td>\n",
       "      <td>https://www.dnb.com/business-directory/company...</td>\n",
       "    </tr>\n",
       "    <tr>\n",
       "      <th>4</th>\n",
       "      <td>REGEN POWERTECH PRIVATE LIMITED</td>\n",
       "      <td>KRM Plaza,8th Floor,North Tower No. 2,Harringt...</td>\n",
       "      <td>Chennai, Tamil Nadu, India</td>\n",
       "      <td></td>\n",
       "      <td>345</td>\n",
       "      <td>2006</td>\n",
       "      <td>https://www.dnb.com/business-directory/company...</td>\n",
       "    </tr>\n",
       "  </tbody>\n",
       "</table>\n",
       "</div>"
      ],
      "text/plain": [
       "                                                Name  \\\n",
       "0                  CCCL POWER INFRASTRUCTURE LIMITED   \n",
       "1  GSH FACILITIES MANAGEMENT SERVICES PRIVATE LIM...   \n",
       "2               THRIVENI EARTHMOVERS PRIVATE LIMITED   \n",
       "3                    FPL AUTOMOBILES PRIVATE LIMITED   \n",
       "4                    REGEN POWERTECH PRIVATE LIMITED   \n",
       "\n",
       "                                     Company Address  \\\n",
       "0  No.5, II Link Street C.I.T. Colony, Mylapore C...   \n",
       "1  NEW NO 14, OLD NO 20, THIRU-VI-KA III STREET, ...   \n",
       "2  22/110, Greenways Road Fairlands Salem, Tamil ...   \n",
       "3  L-6,Sidco Indiaustrial Estate, Vavin Ambattur ...   \n",
       "4  KRM Plaza,8th Floor,North Tower No. 2,Harringt...   \n",
       "\n",
       "                     Location    Phone Number Employees all sites  \\\n",
       "0  Chennai, Tamil Nadu, India  +91-4423454500                3100   \n",
       "1  Chennai, Tamil Nadu, India  +91-9043066694                1477   \n",
       "2    Salem, Tamil Nadu, India  +91-8025743563                7159   \n",
       "3  Chennai, Tamil Nadu, India  +91-8438010336                 487   \n",
       "4  Chennai, Tamil Nadu, India                                 345   \n",
       "\n",
       "  Year Incorporated                                                Url  \n",
       "0              2010  https://www.dnb.com/business-directory/company...  \n",
       "1              2015  https://www.dnb.com/business-directory/company...  \n",
       "2              1999  https://www.dnb.com/business-directory/company...  \n",
       "3              2014  https://www.dnb.com/business-directory/company...  \n",
       "4              2006  https://www.dnb.com/business-directory/company...  "
      ]
     },
     "execution_count": 38,
     "metadata": {},
     "output_type": "execute_result"
    }
   ],
   "source": [
    "data.head()"
   ]
  },
  {
   "cell_type": "markdown",
   "id": "42d8d2c7",
   "metadata": {},
   "source": [
    "### Deleting Unnecessary rows from DataFrame"
   ]
  },
  {
   "cell_type": "raw",
   "id": "176ec95c",
   "metadata": {},
   "source": [
    "# delete a few specified rows at index values 27, 37, 52,122,86,156,91,114,115,126,160,26,209,281,293\n",
    "# Note that the index values do not always align to row numbers.\n",
    "\n",
    "data = data.drop(labels=[26,209,281,293], axis=0)"
   ]
  },
  {
   "cell_type": "code",
   "execution_count": 39,
   "id": "f981b266",
   "metadata": {},
   "outputs": [],
   "source": [
    "data['Employees all sites'] = data['Employees all sites'].astype(int)"
   ]
  },
  {
   "cell_type": "code",
   "execution_count": 40,
   "id": "5ce28a0f",
   "metadata": {},
   "outputs": [],
   "source": [
    "data['Year Incorporated'] = pd.to_numeric(data['Year Incorporated'])"
   ]
  },
  {
   "cell_type": "code",
   "execution_count": 41,
   "id": "37258b2b",
   "metadata": {},
   "outputs": [],
   "source": [
    "data.rename(columns = {'Name': 'Company Name'}, inplace =  True)"
   ]
  },
  {
   "cell_type": "code",
   "execution_count": 42,
   "id": "e65c5463",
   "metadata": {
    "scrolled": true
   },
   "outputs": [
    {
     "name": "stdout",
     "output_type": "stream",
     "text": [
      "<class 'pandas.core.frame.DataFrame'>\n",
      "RangeIndex: 6 entries, 0 to 5\n",
      "Data columns (total 7 columns):\n",
      " #   Column               Non-Null Count  Dtype \n",
      "---  ------               --------------  ----- \n",
      " 0   Company Name         6 non-null      object\n",
      " 1   Company Address      6 non-null      object\n",
      " 2   Location             6 non-null      object\n",
      " 3   Phone Number         6 non-null      object\n",
      " 4   Employees all sites  6 non-null      int32 \n",
      " 5   Year Incorporated    6 non-null      int64 \n",
      " 6   Url                  6 non-null      object\n",
      "dtypes: int32(1), int64(1), object(5)\n",
      "memory usage: 440.0+ bytes\n"
     ]
    }
   ],
   "source": [
    "data.info()"
   ]
  },
  {
   "cell_type": "code",
   "execution_count": 43,
   "id": "ca2070c9",
   "metadata": {},
   "outputs": [
    {
     "data": {
      "text/html": [
       "<div>\n",
       "<style scoped>\n",
       "    .dataframe tbody tr th:only-of-type {\n",
       "        vertical-align: middle;\n",
       "    }\n",
       "\n",
       "    .dataframe tbody tr th {\n",
       "        vertical-align: top;\n",
       "    }\n",
       "\n",
       "    .dataframe thead th {\n",
       "        text-align: right;\n",
       "    }\n",
       "</style>\n",
       "<table border=\"1\" class=\"dataframe\">\n",
       "  <thead>\n",
       "    <tr style=\"text-align: right;\">\n",
       "      <th></th>\n",
       "      <th>Company Name</th>\n",
       "      <th>Company Address</th>\n",
       "      <th>Location</th>\n",
       "      <th>Phone Number</th>\n",
       "      <th>Employees all sites</th>\n",
       "      <th>Year Incorporated</th>\n",
       "      <th>Url</th>\n",
       "    </tr>\n",
       "  </thead>\n",
       "  <tbody>\n",
       "    <tr>\n",
       "      <th>0</th>\n",
       "      <td>CCCL POWER INFRASTRUCTURE LIMITED</td>\n",
       "      <td>No.5, II Link Street C.I.T. Colony, Mylapore C...</td>\n",
       "      <td>Chennai, Tamil Nadu, India</td>\n",
       "      <td>+91-4423454500</td>\n",
       "      <td>3100</td>\n",
       "      <td>2010</td>\n",
       "      <td>https://www.dnb.com/business-directory/company...</td>\n",
       "    </tr>\n",
       "    <tr>\n",
       "      <th>1</th>\n",
       "      <td>GSH FACILITIES MANAGEMENT SERVICES PRIVATE LIM...</td>\n",
       "      <td>NEW NO 14, OLD NO 20, THIRU-VI-KA III STREET, ...</td>\n",
       "      <td>Chennai, Tamil Nadu, India</td>\n",
       "      <td>+91-9043066694</td>\n",
       "      <td>1477</td>\n",
       "      <td>2015</td>\n",
       "      <td>https://www.dnb.com/business-directory/company...</td>\n",
       "    </tr>\n",
       "    <tr>\n",
       "      <th>2</th>\n",
       "      <td>THRIVENI EARTHMOVERS PRIVATE LIMITED</td>\n",
       "      <td>22/110, Greenways Road Fairlands Salem, Tamil ...</td>\n",
       "      <td>Salem, Tamil Nadu, India</td>\n",
       "      <td>+91-8025743563</td>\n",
       "      <td>7159</td>\n",
       "      <td>1999</td>\n",
       "      <td>https://www.dnb.com/business-directory/company...</td>\n",
       "    </tr>\n",
       "    <tr>\n",
       "      <th>3</th>\n",
       "      <td>FPL AUTOMOBILES PRIVATE LIMITED</td>\n",
       "      <td>L-6,Sidco Indiaustrial Estate, Vavin Ambattur ...</td>\n",
       "      <td>Chennai, Tamil Nadu, India</td>\n",
       "      <td>+91-8438010336</td>\n",
       "      <td>487</td>\n",
       "      <td>2014</td>\n",
       "      <td>https://www.dnb.com/business-directory/company...</td>\n",
       "    </tr>\n",
       "    <tr>\n",
       "      <th>4</th>\n",
       "      <td>REGEN POWERTECH PRIVATE LIMITED</td>\n",
       "      <td>KRM Plaza,8th Floor,North Tower No. 2,Harringt...</td>\n",
       "      <td>Chennai, Tamil Nadu, India</td>\n",
       "      <td></td>\n",
       "      <td>345</td>\n",
       "      <td>2006</td>\n",
       "      <td>https://www.dnb.com/business-directory/company...</td>\n",
       "    </tr>\n",
       "    <tr>\n",
       "      <th>5</th>\n",
       "      <td>BRIVAS PRIVATE LIMITED</td>\n",
       "      <td>No. 19,Chitlapakkam Main Road 2 nd Floor, Nehr...</td>\n",
       "      <td>Chennai, Tamil Nadu, India</td>\n",
       "      <td>+91-4422239010</td>\n",
       "      <td>4041</td>\n",
       "      <td>2010</td>\n",
       "      <td>https://www.dnb.com/business-directory/company...</td>\n",
       "    </tr>\n",
       "  </tbody>\n",
       "</table>\n",
       "</div>"
      ],
      "text/plain": [
       "                                        Company Name  \\\n",
       "0                  CCCL POWER INFRASTRUCTURE LIMITED   \n",
       "1  GSH FACILITIES MANAGEMENT SERVICES PRIVATE LIM...   \n",
       "2               THRIVENI EARTHMOVERS PRIVATE LIMITED   \n",
       "3                    FPL AUTOMOBILES PRIVATE LIMITED   \n",
       "4                    REGEN POWERTECH PRIVATE LIMITED   \n",
       "5                             BRIVAS PRIVATE LIMITED   \n",
       "\n",
       "                                     Company Address  \\\n",
       "0  No.5, II Link Street C.I.T. Colony, Mylapore C...   \n",
       "1  NEW NO 14, OLD NO 20, THIRU-VI-KA III STREET, ...   \n",
       "2  22/110, Greenways Road Fairlands Salem, Tamil ...   \n",
       "3  L-6,Sidco Indiaustrial Estate, Vavin Ambattur ...   \n",
       "4  KRM Plaza,8th Floor,North Tower No. 2,Harringt...   \n",
       "5  No. 19,Chitlapakkam Main Road 2 nd Floor, Nehr...   \n",
       "\n",
       "                     Location    Phone Number  Employees all sites  \\\n",
       "0  Chennai, Tamil Nadu, India  +91-4423454500                 3100   \n",
       "1  Chennai, Tamil Nadu, India  +91-9043066694                 1477   \n",
       "2    Salem, Tamil Nadu, India  +91-8025743563                 7159   \n",
       "3  Chennai, Tamil Nadu, India  +91-8438010336                  487   \n",
       "4  Chennai, Tamil Nadu, India                                  345   \n",
       "5  Chennai, Tamil Nadu, India  +91-4422239010                 4041   \n",
       "\n",
       "   Year Incorporated                                                Url  \n",
       "0               2010  https://www.dnb.com/business-directory/company...  \n",
       "1               2015  https://www.dnb.com/business-directory/company...  \n",
       "2               1999  https://www.dnb.com/business-directory/company...  \n",
       "3               2014  https://www.dnb.com/business-directory/company...  \n",
       "4               2006  https://www.dnb.com/business-directory/company...  \n",
       "5               2010  https://www.dnb.com/business-directory/company...  "
      ]
     },
     "execution_count": 43,
     "metadata": {},
     "output_type": "execute_result"
    }
   ],
   "source": [
    "data"
   ]
  },
  {
   "cell_type": "code",
   "execution_count": 44,
   "id": "9d1f664f",
   "metadata": {},
   "outputs": [
    {
     "name": "stdout",
     "output_type": "stream",
     "text": [
      "DataFrame is written to Excel File successfully.\n"
     ]
    }
   ],
   "source": [
    "# determining the name of the file\n",
    "file_name = 'Construction Contractors in Tamil Nadu.xlsx'\n",
    "  \n",
    "# saving the excel\n",
    "data.to_excel(file_name)\n",
    "print('DataFrame is written to Excel File successfully.')"
   ]
  },
  {
   "cell_type": "code",
   "execution_count": 45,
   "id": "c023a5c5",
   "metadata": {},
   "outputs": [
    {
     "data": {
      "text/plain": [
       "(6, 7)"
      ]
     },
     "execution_count": 45,
     "metadata": {},
     "output_type": "execute_result"
    }
   ],
   "source": [
    "data.shape"
   ]
  },
  {
   "cell_type": "markdown",
   "id": "24fd2c99",
   "metadata": {},
   "source": [
    "### Conclusion :"
   ]
  },
  {
   "cell_type": "markdown",
   "id": "c7dfbf7c",
   "metadata": {},
   "source": [
    "* There are some missing data present in this data set. \n",
    "* Handling the missing data is crucial for data science project. \n",
    "* Data quality is also important in particular when you required data for data analysis."
   ]
  },
  {
   "cell_type": "markdown",
   "id": "52a3f549",
   "metadata": {},
   "source": [
    "### Output Sturctured Data in Excel Sheet: "
   ]
  },
  {
   "cell_type": "markdown",
   "id": "d139774b",
   "metadata": {},
   "source": [
    "https://docs.google.com/spreadsheets/d/1ezZPzcjgbxF1CajwSCMUxB5tJ5xMs2LO/edit?usp=sharing&ouid=115495952924757409310&rtpof=true&sd=true"
   ]
  }
 ],
 "metadata": {
  "kernelspec": {
   "display_name": "Python 3",
   "language": "python",
   "name": "python3"
  },
  "language_info": {
   "codemirror_mode": {
    "name": "ipython",
    "version": 3
   },
   "file_extension": ".py",
   "mimetype": "text/x-python",
   "name": "python",
   "nbconvert_exporter": "python",
   "pygments_lexer": "ipython3",
   "version": "3.8.8"
  }
 },
 "nbformat": 4,
 "nbformat_minor": 5
}
