{
 "cells": [
  {
   "cell_type": "markdown",
   "id": "b756826c-dcdc-4720-bffd-272a1e05bfeb",
   "metadata": {},
   "source": [
    "# Univariate Time Series Forecasting"
   ]
  },
  {
   "cell_type": "markdown",
   "id": "f666e0bf-369e-440d-b1d2-1622d58e3148",
   "metadata": {},
   "source": [
    "#### One Step Time Series Forecasting"
   ]
  },
  {
   "cell_type": "markdown",
   "id": "22f9bfee-0d9b-43b5-be9c-1d3253df0f4f",
   "metadata": {},
   "source": [
    "# Vanilla LSTM"
   ]
  },
  {
   "cell_type": "code",
   "execution_count": 1,
   "id": "d24003f1-2cf9-4e04-af65-fd80ae811f88",
   "metadata": {},
   "outputs": [],
   "source": [
    "from numpy import array"
   ]
  },
  {
   "cell_type": "code",
   "execution_count": 2,
   "id": "030b7c52-1a35-4df4-970a-c38909ac74b7",
   "metadata": {},
   "outputs": [],
   "source": [
    "raw_seq = [10,20,30,40,50,60,70,80,90]"
   ]
  },
  {
   "cell_type": "raw",
   "id": "1d8270dc-8b83-48a0-9d08-6afecb816c38",
   "metadata": {},
   "source": [
    "X,             Y\n",
    "10,20,30       40\n",
    "20,30,40       50\n",
    "30,40,50       60\n",
    "......"
   ]
  },
  {
   "cell_type": "markdown",
   "id": "45c5850b-1186-4e55-856c-d0f30a397357",
   "metadata": {},
   "source": [
    "Three time steps are used as = **Input** <br>\n",
    "One time Step is used as = **Output**"
   ]
  },
  {
   "cell_type": "markdown",
   "id": "6bfb6f8e-1412-4416-b2ce-3282d89031c7",
   "metadata": {
    "tags": []
   },
   "source": [
    "Consider a given univariate sequence :"
   ]
  },
  {
   "cell_type": "markdown",
   "id": "af78eb75-be19-4322-b338-19c44300f435",
   "metadata": {
    "tags": []
   },
   "source": [
    "**Input** :"
   ]
  },
  {
   "cell_type": "raw",
   "id": "054acf5d-5ab3-4dee-9dc7-7c9094e075cf",
   "metadata": {},
   "source": [
    "[70,80,90]"
   ]
  },
  {
   "cell_type": "markdown",
   "id": "ace9c217-527e-4b5f-972f-e052c31dfc2b",
   "metadata": {},
   "source": [
    "**Output** :"
   ]
  },
  {
   "cell_type": "raw",
   "id": "002e88a2-fc5d-4474-950e-c332fb82da9e",
   "metadata": {},
   "source": [
    "[100]"
   ]
  },
  {
   "cell_type": "markdown",
   "id": "02f09701-3507-4e9b-af82-7f47ef673c6b",
   "metadata": {},
   "source": [
    "## Data Preparation"
   ]
  },
  {
   "cell_type": "markdown",
   "id": "50c87c91-3d66-40c4-8a94-8162cf26dca3",
   "metadata": {
    "tags": []
   },
   "source": [
    "X, &ensp;&ensp;&ensp;&ensp;&ensp;&ensp; Y, <br> 2,3,5 &ensp;&ensp;&ensp;&ensp;7 <br> 3,5,7 &ensp;&ensp;&ensp;11 <br> 5,7,11 &ensp;&ensp;13 <br> ...."
   ]
  },
  {
   "cell_type": "code",
   "execution_count": 3,
   "id": "593494b2-2d97-4407-87ea-6239a105e93d",
   "metadata": {},
   "outputs": [],
   "source": [
    "# choose a number of time steps\n",
    "n_steps = 3"
   ]
  },
  {
   "cell_type": "markdown",
   "id": "a98dd3bc-9519-4db6-a0e6-06e452208bd7",
   "metadata": {},
   "source": [
    "### Split_sequence Function"
   ]
  },
  {
   "cell_type": "code",
   "execution_count": 4,
   "id": "ba897f63-db1e-43e6-84cf-a548df1a3be7",
   "metadata": {},
   "outputs": [],
   "source": [
    "# split a univariate sequence into samples\n",
    "def split_sequence(sequence,n_steps):\n",
    "    \n",
    "    # using list() function to create a list\n",
    "    X,y = list(), list()\n",
    "    \n",
    "    for i in range(len(sequence)):\n",
    "        \n",
    "        # find the end of this pattern\n",
    "        end_ix = i + n_steps\n",
    "        \n",
    "        # check if we are beyond the sequence\n",
    "        if end_ix > len(sequence)-1:\n",
    "            break\n",
    "        \n",
    "        # gather input and output parts of the pattern\n",
    "        seq_x, seq_y = sequence[i:end_ix], sequence[end_ix]\n",
    "        \n",
    "        X.append(seq_x)\n",
    "        y.append(seq_y)\n",
    "        \n",
    "    return array(X), array(y)"
   ]
  },
  {
   "cell_type": "code",
   "execution_count": 5,
   "id": "a2f10565-d018-448f-8d67-f3047bd81776",
   "metadata": {},
   "outputs": [
    {
     "name": "stdout",
     "output_type": "stream",
     "text": [
      "[10 20 30] 40\n",
      "[20 30 40] 50\n",
      "[30 40 50] 60\n",
      "[40 50 60] 70\n",
      "[50 60 70] 80\n",
      "[60 70 80] 90\n"
     ]
    }
   ],
   "source": [
    "# split into samples\n",
    "X, y = split_sequence(raw_seq, n_steps)\n",
    "# summarize the data\n",
    "\n",
    "\n",
    "for i in range(len(X)):\n",
    "    print(X[i], y[i])"
   ]
  },
  {
   "cell_type": "markdown",
   "id": "e155f1f6-4035-4f6d-90a5-07c860716dc7",
   "metadata": {},
   "source": [
    "### Univariate Data Preparation"
   ]
  },
  {
   "cell_type": "code",
   "execution_count": 6,
   "id": "1f58bd2a-9bdc-4e0c-a6e1-c2bb9ceb49d1",
   "metadata": {},
   "outputs": [
    {
     "name": "stdout",
     "output_type": "stream",
     "text": [
      "[10 20 30] 40\n",
      "[20 30 40] 50\n",
      "[30 40 50] 60\n",
      "[40 50 60] 70\n",
      "[50 60 70] 80\n",
      "[60 70 80] 90\n",
      "\n",
      "X.shape: (6, 3)\n"
     ]
    }
   ],
   "source": [
    "# python program to demonstrate\n",
    "# univariate data preparation\n",
    "\n",
    "from numpy import array\n",
    "\n",
    "# split univariate sequence into samples\n",
    "def split_sequence(sequence,n_steps):\n",
    "    # using list() function to create a list\n",
    "    X,y = list(), list()\n",
    "    for i in range(len(sequence)):\n",
    "        # find the end of this pattern\n",
    "        end_ix = i + n_steps\n",
    "         # check if we are beyond the sequence\n",
    "        if end_ix > len(sequence)-1:\n",
    "            break\n",
    "        # gather input and output parts of the pattern\n",
    "        seq_x, seq_y = sequence[i:end_ix], sequence[end_ix]\n",
    "        X.append(seq_x)\n",
    "        y.append(seq_y)\n",
    "    return array(X), array(y)\n",
    "\n",
    "# define input sequence\n",
    "raw_seq = [10, 20, 30, 40, 50, 60, 70, 80, 90]\n",
    "# choose a number of time steps\n",
    "n_steps = 3\n",
    "# split into samples\n",
    "X, y = split_sequence(raw_seq, n_steps)\n",
    "# summarize the data\n",
    "for i in range(len(X)):\n",
    "    print(X[i], y[i])\n",
    "\n",
    "print(sep = \" \")\n",
    "print(\"X.shape:\", X.shape)"
   ]
  },
  {
   "cell_type": "raw",
   "id": "a52d292e-0d75-42c8-9ca8-4ad7fe34a5e6",
   "metadata": {},
   "source": [
    "# define model\n",
    "\n",
    "from numpy import array\n",
    "from keras.models import Sequential\n",
    "from keras.layers import LSTM\n",
    "from keras.layers import Dense\n",
    "# reshape from [samples, timesteps] into [samples, timesteps, features]\n",
    "n_features = 1\n",
    "model = Sequential()\n",
    "model.add(LSTM(50, activation = \"relu\", input_shape = (n_steps, n_features)))\n",
    "model.add(Dense(1))\n",
    "model.compile(optimizer = \"adam\", loss = \"mse\")"
   ]
  },
  {
   "cell_type": "raw",
   "id": "3473a092-3137-48a2-8582-5895544aea42",
   "metadata": {},
   "source": [
    "[samples,timesteps,features]"
   ]
  },
  {
   "cell_type": "raw",
   "id": "bae86520-efb5-4d3d-9c46-c39d61b35d5a",
   "metadata": {},
   "source": [
    "[samples,timesteps]"
   ]
  },
  {
   "cell_type": "code",
   "execution_count": 7,
   "id": "0516bfd4-44e5-4a34-9f4f-ad14ad805d22",
   "metadata": {},
   "outputs": [
    {
     "name": "stdout",
     "output_type": "stream",
     "text": [
      "[[[10]\n",
      "  [20]\n",
      "  [30]]\n",
      "\n",
      " [[20]\n",
      "  [30]\n",
      "  [40]]\n",
      "\n",
      " [[30]\n",
      "  [40]\n",
      "  [50]]\n",
      "\n",
      " [[40]\n",
      "  [50]\n",
      "  [60]]\n",
      "\n",
      " [[50]\n",
      "  [60]\n",
      "  [70]]\n",
      "\n",
      " [[60]\n",
      "  [70]\n",
      "  [80]]]\n",
      "X.shape:  (6, 3, 1)\n"
     ]
    }
   ],
   "source": [
    "# reshape from [sample,timsteps] into [samples, timsteps, featuers]\n",
    "\n",
    "n_features = 1\n",
    "X = X.reshape((X.shape[0], X.shape[1], n_features))\n",
    "\n",
    "print(X)\n",
    "\n",
    "print(\"X.shape: \", X.shape)"
   ]
  },
  {
   "cell_type": "raw",
   "id": "a298f17f-40c3-4de3-8cf1-5baf7a1f96ad",
   "metadata": {},
   "source": [
    "# fit model\n",
    "\n",
    "model.fit(X, y, epochs=200, verbose=0)"
   ]
  },
  {
   "cell_type": "raw",
   "id": "911025a6-d310-4461-8738-8c8c950d4d7b",
   "metadata": {},
   "source": [
    "# demonstrate prediction\n",
    "\n",
    "x_input = array([70,80,90])\n",
    "x_input = x_input.reshape((1, n_steps, n_features))\n",
    "yhat = model.predict(x_input, verbose=0)\n",
    "print(yhat)"
   ]
  },
  {
   "cell_type": "markdown",
   "id": "330b64eb-bce2-4ec9-867c-55bbe28efcf9",
   "metadata": {
    "tags": []
   },
   "source": [
    "### Univariate LSTM example"
   ]
  },
  {
   "cell_type": "code",
   "execution_count": 8,
   "id": "884c1e9e-01b5-483a-990f-3207bc53e9d5",
   "metadata": {
    "tags": []
   },
   "outputs": [
    {
     "name": "stdout",
     "output_type": "stream",
     "text": [
      "[[[10]\n",
      "  [20]\n",
      "  [30]]\n",
      "\n",
      " [[20]\n",
      "  [30]\n",
      "  [40]]\n",
      "\n",
      " [[30]\n",
      "  [40]\n",
      "  [50]]\n",
      "\n",
      " [[40]\n",
      "  [50]\n",
      "  [60]]\n",
      "\n",
      " [[50]\n",
      "  [60]\n",
      "  [70]]\n",
      "\n",
      " [[60]\n",
      "  [70]\n",
      "  [80]]]\n",
      "X.shape: (6, 3, 1)\n",
      "\n",
      "[40 50 60 70 80 90]\n",
      "y.shape: (6,)\n",
      "\n",
      "[[[70]\n",
      "  [80]\n",
      "  [90]]]\n",
      "\n",
      "x_input.shape:  (1, 3, 1)\n",
      "\n",
      "n_steps:  3\n",
      "n_features:  1\n",
      "\n",
      "[[103.130486]]\n"
     ]
    }
   ],
   "source": [
    "# univariate LSTM example\n",
    "from numpy import array\n",
    "from keras.models import Sequential\n",
    "from keras.layers import LSTM\n",
    "from keras.layers import Dense\n",
    "\n",
    "# split univariate sequence into samples\n",
    "def split_sequence(sequence,n_steps):\n",
    "    # using list() function to create a list\n",
    "    X,y = list(), list()\n",
    "    for i in range(len(sequence)):\n",
    "        # find the end of this pattern\n",
    "        end_ix = i + n_steps\n",
    "         # check if we are beyond the sequence\n",
    "        if end_ix > len(sequence)-1:\n",
    "            break\n",
    "        # gather input and output parts of the pattern\n",
    "        seq_x, seq_y = sequence[i:end_ix], sequence[end_ix]\n",
    "        X.append(seq_x)\n",
    "        y.append(seq_y)\n",
    "    return array(X), array(y)\n",
    "\n",
    "# define input sequence\n",
    "raw_seq = [10, 20, 30, 40, 50, 60, 70, 80, 90]\n",
    "# choose a number of time steps\n",
    "n_steps = 3\n",
    "# split into samples\n",
    "X, y = split_sequence(raw_seq, n_steps)\n",
    "\n",
    "# reshape from [samples, timesteps] into [samples, timesteps, features]\n",
    "n_features = 1\n",
    "X = X.reshape((X.shape[0], X.shape[1], n_features))\n",
    "\n",
    "# define model\n",
    "model = Sequential()\n",
    "model.add(LSTM(50, activation='relu', input_shape=(n_steps, n_features)))\n",
    "model.add(Dense(1))\n",
    "model.compile(optimizer='adam', loss='mse')\n",
    "\n",
    "# fit model\n",
    "model.fit(X, y, epochs=200, verbose=0)\n",
    "\n",
    "# demonstrate prediction\n",
    "x_input = array([70, 80, 90])\n",
    "x_input = x_input.reshape((1, n_steps, n_features))\n",
    "yhat = model.predict(x_input, verbose=0)\n",
    "\n",
    "print(X)\n",
    "print(\"X.shape:\", X.shape)\n",
    "print(sep = \" \")\n",
    "print(y)\n",
    "print(\"y.shape:\",y.shape)\n",
    "print(sep = \" \")\n",
    "\n",
    "print(x_input)\n",
    "print(sep = \" \")\n",
    "print(\"x_input.shape: \",x_input.shape)\n",
    "print(sep = \" \")\n",
    "print(\"n_steps: \", n_steps)\n",
    "print(\"n_features: \", n_features)\n",
    "print(sep = \" \")\n",
    "print(yhat)"
   ]
  },
  {
   "cell_type": "markdown",
   "id": "b774f241-ef5d-4e6f-b469-de438c5a0614",
   "metadata": {
    "tags": []
   },
   "source": [
    "## Vanilla LSTM With Example"
   ]
  },
  {
   "cell_type": "code",
   "execution_count": 9,
   "id": "bf9b7bb5-ec5f-4cdb-8592-27a0a0e953a5",
   "metadata": {},
   "outputs": [
    {
     "data": {
      "text/plain": [
       "[<matplotlib.lines.Line2D at 0x1b4bd309fa0>]"
      ]
     },
     "execution_count": 9,
     "metadata": {},
     "output_type": "execute_result"
    },
    {
     "data": {
      "image/png": "[encoded data removed]",
      "text/plain": [
       "<Figure size 720x504 with 1 Axes>"
      ]
     },
     "metadata": {
      "needs_background": "light"
     },
     "output_type": "display_data"
    }
   ],
   "source": [
    "import pandas as pd\n",
    "import matplotlib.pyplot as plt\n",
    "%matplotlib inline\n",
    "\n",
    "dataset = pd.read_csv(\"airline-passengers.csv\", \n",
    "                      parse_dates = [\"Month\"], \n",
    "                      index_col = \"Month\")\n",
    "\n",
    "plt.figure(figsize = (10,7))\n",
    "plt.xlabel(\"Date\", fontsize = 15)\n",
    "plt.ylabel(\"No. of Passengers\", fontsize = 15)\n",
    "plt.title(\"Air Passenger Numbers from 1949 to 1961\",fontsize = 20)\n",
    "plt.plot(dataset)"
   ]
  },
  {
   "cell_type": "code",
   "execution_count": 11,
   "id": "5ad33ca3-35d2-4f41-8cc7-1acbc1538c7b",
   "metadata": {},
   "outputs": [
    {
     "data": {
      "text/html": [
       "<div>\n",
       "<style scoped>\n",
       "    .dataframe tbody tr th:only-of-type {\n",
       "        vertical-align: middle;\n",
       "    }\n",
       "\n",
       "    .dataframe tbody tr th {\n",
       "        vertical-align: top;\n",
       "    }\n",
       "\n",
       "    .dataframe thead th {\n",
       "        text-align: right;\n",
       "    }\n",
       "</style>\n",
       "<table border=\"1\" class=\"dataframe\">\n",
       "  <thead>\n",
       "    <tr style=\"text-align: right;\">\n",
       "      <th></th>\n",
       "      <th>Passengers</th>\n",
       "    </tr>\n",
       "    <tr>\n",
       "      <th>Month</th>\n",
       "      <th></th>\n",
       "    </tr>\n",
       "  </thead>\n",
       "  <tbody>\n",
       "    <tr>\n",
       "      <th>1949-01-01</th>\n",
       "      <td>112</td>\n",
       "    </tr>\n",
       "    <tr>\n",
       "      <th>1949-02-01</th>\n",
       "      <td>118</td>\n",
       "    </tr>\n",
       "    <tr>\n",
       "      <th>1949-03-01</th>\n",
       "      <td>132</td>\n",
       "    </tr>\n",
       "    <tr>\n",
       "      <th>1949-04-01</th>\n",
       "      <td>129</td>\n",
       "    </tr>\n",
       "    <tr>\n",
       "      <th>1949-05-01</th>\n",
       "      <td>121</td>\n",
       "    </tr>\n",
       "  </tbody>\n",
       "</table>\n",
       "</div>"
      ],
      "text/plain": [
       "            Passengers\n",
       "Month                 \n",
       "1949-01-01         112\n",
       "1949-02-01         118\n",
       "1949-03-01         132\n",
       "1949-04-01         129\n",
       "1949-05-01         121"
      ]
     },
     "execution_count": 11,
     "metadata": {},
     "output_type": "execute_result"
    }
   ],
   "source": [
    "dataset.head()"
   ]
  },
  {
   "cell_type": "code",
   "execution_count": 12,
   "id": "4594fe75-214c-45e4-9688-d931736244ff",
   "metadata": {},
   "outputs": [],
   "source": [
    "# define input sequence\n",
    "\n",
    "seq = dataset[\"Passengers\"]\n",
    "\n",
    "# choose a number of time steps\n",
    "\n",
    "n_steps = 3\n",
    "\n",
    "# split into samples\n",
    "\n",
    "X,y = split_sequence(raw_seq, n_steps)\n",
    "\n",
    "# reshape from [samples, timesteps] into [samples, timesteps, features]\n",
    "n_features = 1\n",
    "X = X.reshape((X.shape[0], X.shape[1], n_features))"
   ]
  },
  {
   "cell_type": "code",
   "execution_count": 13,
   "id": "1c8b227c-7555-42f4-b8d4-1a3d20ea034c",
   "metadata": {},
   "outputs": [
    {
     "name": "stdout",
     "output_type": "stream",
     "text": [
      "\n",
      "Model: \"sequential_1\"\n",
      "_________________________________________________________________\n",
      " Layer (type)                Output Shape              Param #   \n",
      "=================================================================\n",
      " lstm_1 (LSTM)               (None, 50)                10400     \n",
      "                                                                 \n",
      " dense_1 (Dense)             (None, 1)                 51        \n",
      "                                                                 \n",
      "=================================================================\n",
      "Total params: 10,451\n",
      "Trainable params: 10,451\n",
      "Non-trainable params: 0\n",
      "_________________________________________________________________\n"
     ]
    }
   ],
   "source": [
    "# univariate LSTM example\n",
    "from numpy import array\n",
    "from keras.models import Sequential\n",
    "from keras.layers import LSTM\n",
    "from keras.layers import Dense\n",
    "\n",
    "# split univariate sequence into samples\n",
    "def split_sequence(sequence,n_steps):\n",
    "    # using list() function to create a list\n",
    "    X,y = list(), list()\n",
    "    for i in range(len(sequence)):\n",
    "        # find the end of this pattern\n",
    "        end_ix = i + n_steps\n",
    "         # check if we are beyond the sequence\n",
    "        if end_ix > len(sequence)-1:\n",
    "            break\n",
    "        # gather input and output parts of the pattern\n",
    "        seq_x, seq_y = sequence[i:end_ix], sequence[end_ix]\n",
    "        X.append(seq_x)\n",
    "        y.append(seq_y)\n",
    "    return array(X), array(y)\n",
    "\n",
    "\n",
    "# define model\n",
    "model = Sequential()\n",
    "model.add(LSTM(50, activation='relu', input_shape=(n_steps, n_features)))\n",
    "model.add(Dense(1))\n",
    "model.compile(optimizer='adam', loss='mse')\n",
    "# fit model\n",
    "model.fit(X, y, epochs=200, verbose=0)\n",
    "\n",
    "print(sep = \" \")\n",
    "model.summary()"
   ]
  },
  {
   "cell_type": "code",
   "execution_count": 14,
   "id": "7f6f4211-c7d7-441b-b7c4-ced09ee90526",
   "metadata": {},
   "outputs": [
    {
     "name": "stdout",
     "output_type": "stream",
     "text": [
      "n_steps :  3\n",
      "n_features:  1\n",
      "[[[461]\n",
      "  [390]\n",
      "  [432]]]\n",
      "X.shape:  (6, 3, 1)\n",
      "[[552.61066]]\n"
     ]
    }
   ],
   "source": [
    "# demonstrate prediction\n",
    "x_input = array([461,390,432])\n",
    "x_input = x_input.reshape((1, n_steps, n_features))\n",
    "yhat = model.predict(x_input, verbose=0)\n",
    "\n",
    "print(\"n_steps : \", n_steps)\n",
    "print(\"n_features: \", n_features)\n",
    "\n",
    "print(x_input)\n",
    "\n",
    "print(\"X.shape: \", X.shape)\n",
    "\n",
    "print(yhat)"
   ]
  },
  {
   "cell_type": "code",
   "execution_count": 15,
   "id": "11ba99ad-9d1e-4283-8457-602301632d44",
   "metadata": {},
   "outputs": [],
   "source": [
    "# define model\n",
    "\n",
    "model = Sequential()\n",
    "model.add(LSTM(50, activation=\"relu\", return_sequences=True, input_shape=(n_steps, n_features)))\n",
    "model.add(LSTM(50, activation=\"relu\"))\n",
    "model.add(Dense(1))\n",
    "model.compile(optimizer=\"adam\", loss=\"mse\")"
   ]
  },
  {
   "cell_type": "code",
   "execution_count": 16,
   "id": "591f9f77-13bd-49e9-9fef-eaf5a04b54f6",
   "metadata": {},
   "outputs": [
    {
     "name": "stdout",
     "output_type": "stream",
     "text": [
      "\n",
      "Model: \"sequential_3\"\n",
      "_________________________________________________________________\n",
      " Layer (type)                Output Shape              Param #   \n",
      "=================================================================\n",
      " lstm_4 (LSTM)               (None, 3, 50)             10400     \n",
      "                                                                 \n",
      " lstm_5 (LSTM)               (None, 50)                20200     \n",
      "                                                                 \n",
      " dense_3 (Dense)             (None, 1)                 51        \n",
      "                                                                 \n",
      "=================================================================\n",
      "Total params: 30,651\n",
      "Trainable params: 30,651\n",
      "Non-trainable params: 0\n",
      "_________________________________________________________________\n",
      "\n",
      "[[[10]\n",
      "  [20]\n",
      "  [30]]\n",
      "\n",
      " [[20]\n",
      "  [30]\n",
      "  [40]]\n",
      "\n",
      " [[30]\n",
      "  [40]\n",
      "  [50]]\n",
      "\n",
      " [[40]\n",
      "  [50]\n",
      "  [60]]\n",
      "\n",
      " [[50]\n",
      "  [60]\n",
      "  [70]]\n",
      "\n",
      " [[60]\n",
      "  [70]\n",
      "  [80]]]\n",
      "X.shape: (6, 3, 1)\n",
      "[40 50 60 70 80 90]\n",
      "y.shape: (6,)\n",
      "\n",
      "[[[70]\n",
      "  [80]\n",
      "  [90]]]\n",
      "\n",
      "x_input.shape: (1, 3, 1)\n",
      "\n",
      "n_steps:  3\n",
      "n_features:  1\n",
      "\n",
      "[[104.3385]]\n"
     ]
    }
   ],
   "source": [
    "# univariate stacked lstm example\n",
    "\n",
    "from numpy import array\n",
    "from keras.models import Sequential\n",
    "from keras.layers import LSTM\n",
    "from keras.layers import Dense\n",
    "\n",
    "\n",
    "# split a univariate sequence\n",
    "def split_sequence(sequence, n_steps):\n",
    "    X,y = list(), list()\n",
    "    for i in range(len(sequence)):\n",
    "        # find the end of this pattern\n",
    "        end_ix = i + n_steps\n",
    "        # check if we are beyond the sequence\n",
    "        if end_ix > len(sequence)-1:\n",
    "            break\n",
    "        # gather input and output parts of the pattern\n",
    "        seq_x, seq_y = sequence[i:end_ix], sequence[end_ix]\n",
    "        X.append(seq_x)\n",
    "        y.append(seq_y)\n",
    "    return array(X), array(y)\n",
    "\n",
    "# define input sequence\n",
    "raw_seq = [10, 20, 30, 40, 50, 60, 70, 80, 90]\n",
    "# choose a number of the time steps\n",
    "n_steps = 3\n",
    "# split into samples\n",
    "X,y = split_sequence(raw_seq, n_steps)\n",
    "# reshape from [samples, timesteps] into [samples, timesteps, features]\n",
    "n_features = 1\n",
    "X = X.reshape(X.shape[0], X.shape[1], n_features)\n",
    "\n",
    "# define model\n",
    "model = Sequential()\n",
    "model.add(LSTM(50, activation=\"relu\", return_sequences = True, \n",
    "               input_shape=(n_steps, n_features)))\n",
    "\n",
    "model.add(LSTM(50, activation=\"relu\"))\n",
    "\n",
    "model.add(Dense(1))\n",
    "model.compile(optimizer='adam', loss='mse')\n",
    "\n",
    "# fit model\n",
    "model.fit(X, y, epochs=200, verbose=0)\n",
    "print(sep = \" \")\n",
    "model.summary()\n",
    "print(sep = \" \")\n",
    "# demonstrate prediction\n",
    "x_input = array([70, 80, 90])\n",
    "x_input = x_input.reshape((1, n_steps, n_features))\n",
    "yhat = model.predict(x_input, verbose=0)\n",
    "\n",
    "print(X)\n",
    "print(\"X.shape:\", X.shape)\n",
    "\n",
    "print(y)\n",
    "print(\"y.shape:\",y.shape)\n",
    "print(sep = \" \")\n",
    "print(x_input)\n",
    "print(sep = \" \")\n",
    "print(\"x_input.shape:\",x_input.shape)\n",
    "print(sep = \" \")\n",
    "print(\"n_steps: \", n_steps)\n",
    "print(\"n_features: \", n_features)\n",
    "print(sep = \" \")\n",
    "print(yhat)"
   ]
  },
  {
   "cell_type": "markdown",
   "id": "f7f64253-fd35-463c-9db1-1529e8c1c7b2",
   "metadata": {},
   "source": [
    "# Bidirectional LSTM"
   ]
  },
  {
   "cell_type": "code",
   "execution_count": 17,
   "id": "800a3476-15fe-47d7-8179-f8b88f07d69b",
   "metadata": {},
   "outputs": [
    {
     "name": "stdout",
     "output_type": "stream",
     "text": [
      "\n",
      "Model: \"sequential_4\"\n",
      "_________________________________________________________________\n",
      " Layer (type)                Output Shape              Param #   \n",
      "=================================================================\n",
      " bidirectional (Bidirectiona  (None, 100)              20800     \n",
      " l)                                                              \n",
      "                                                                 \n",
      " dense_4 (Dense)             (None, 1)                 101       \n",
      "                                                                 \n",
      "=================================================================\n",
      "Total params: 20,901\n",
      "Trainable params: 20,901\n",
      "Non-trainable params: 0\n",
      "_________________________________________________________________\n",
      "\n",
      "[[[10]\n",
      "  [20]\n",
      "  [30]]\n",
      "\n",
      " [[20]\n",
      "  [30]\n",
      "  [40]]\n",
      "\n",
      " [[30]\n",
      "  [40]\n",
      "  [50]]\n",
      "\n",
      " [[40]\n",
      "  [50]\n",
      "  [60]]\n",
      "\n",
      " [[50]\n",
      "  [60]\n",
      "  [70]]\n",
      "\n",
      " [[60]\n",
      "  [70]\n",
      "  [80]]]\n",
      "X.shape: (6, 3, 1)\n",
      "[40 50 60 70 80 90]\n",
      "y.shape: (6,)\n",
      "[[[70]\n",
      "  [80]\n",
      "  [90]]]\n",
      "n_steps:  3\n",
      "n_features:  1\n",
      "[[101.228]]\n"
     ]
    }
   ],
   "source": [
    "# univariate bidirectional lstm example\n",
    "\n",
    "from numpy import array\n",
    "from keras.models import Sequential\n",
    "from keras.layers import LSTM\n",
    "from keras.layers import Dense\n",
    "from keras.layers import Bidirectional\n",
    "\n",
    "# split a univariate sequence\n",
    "def split_sequence(sequence, n_steps):\n",
    "    X,y = list(), list()\n",
    "    for i in range(len(sequence)):\n",
    "        # find the end of this pattern\n",
    "        end_ix = i + n_steps\n",
    "        # check if we are beyond the sequence\n",
    "        if end_ix > len(sequence)-1:\n",
    "            break\n",
    "        # gather input and output parts of the pattern\n",
    "        seq_x, seq_y = sequence[i:end_ix], sequence[end_ix]\n",
    "        X.append(seq_x)\n",
    "        y.append(seq_y)\n",
    "    return array(X), array(y)\n",
    "\n",
    "# define input sequence\n",
    "raw_seq = [10, 20, 30, 40, 50, 60, 70, 80, 90]\n",
    "# choose a number of the time steps\n",
    "n_steps = 3\n",
    "# split into samples\n",
    "X,y = split_sequence(raw_seq, n_steps)\n",
    "# reshape from [samples, timesteps] into [samples, timesteps, features]\n",
    "n_features = 1\n",
    "X = X.reshape(X.shape[0], X.shape[1], n_features)\n",
    "\n",
    "# define model\n",
    "model = Sequential()\n",
    "model.add(Bidirectional(LSTM(50, activation=\"relu\"),\n",
    "                        input_shape=(n_steps, n_features)))\n",
    "\n",
    "model.add(Dense(1))\n",
    "model.compile(optimizer='adam', loss='mse')\n",
    "\n",
    "# fit model\n",
    "model.fit(X, y, epochs=200, verbose=0)\n",
    "print(sep = \" \")\n",
    "model.summary()\n",
    "print(sep = \" \")\n",
    "# demonstrate prediction\n",
    "x_input = array([70, 80, 90])\n",
    "x_input = x_input.reshape((1, n_steps, n_features))\n",
    "yhat = model.predict(x_input, verbose=0)\n",
    "\n",
    "print(X)\n",
    "print(\"X.shape:\", X.shape)\n",
    "\n",
    "print(y)\n",
    "print(\"y.shape:\",y.shape)\n",
    "\n",
    "print(x_input)\n",
    "\n",
    "print(\"n_steps: \", n_steps)\n",
    "print(\"n_features: \", n_features)\n",
    "\n",
    "print(yhat)"
   ]
  },
  {
   "cell_type": "markdown",
   "id": "f4700d98-c7fe-45fc-88d6-28999689df6d",
   "metadata": {},
   "source": [
    "# CNN-LSTM"
   ]
  },
  {
   "cell_type": "code",
   "execution_count": 18,
   "id": "40e28e40-c67b-478f-a47a-d8ff476720f7",
   "metadata": {},
   "outputs": [],
   "source": [
    "from numpy import array"
   ]
  },
  {
   "cell_type": "code",
   "execution_count": 19,
   "id": "d02774c5-5500-42a4-9407-384798c75952",
   "metadata": {},
   "outputs": [],
   "source": [
    "\n",
    "# split a univariate sequence into samples\n",
    "def split_sequence(sequence, n_steps):\n",
    "    X, y = list(), list()\n",
    "    for i in range(len(sequence)):\n",
    "        # find the end of this pattern\n",
    "        end_ix = i + n_steps\n",
    "        # check if we are beyond the sequence\n",
    "        if end_ix > len(sequence)-1:\n",
    "            break\n",
    "        # gather input and output parts of the pattern\n",
    "        seq_x, seq_y = sequence[i:end_ix], sequence[end_ix]\n",
    "#         print(seq_x)\n",
    "        print(seq_y)\n",
    "        X.append(seq_x)\n",
    "        y.append(seq_y)\n",
    "    return array(X), array(y)"
   ]
  },
  {
   "cell_type": "code",
   "execution_count": 20,
   "id": "abb99d1b-ad60-471e-a5bb-bff0c2fc76b4",
   "metadata": {},
   "outputs": [
    {
     "name": "stdout",
     "output_type": "stream",
     "text": [
      "50\n",
      "60\n",
      "70\n",
      "80\n",
      "90\n",
      "[[[[10]\n",
      "   [20]]\n",
      "\n",
      "  [[30]\n",
      "   [40]]]\n",
      "\n",
      "\n",
      " [[[20]\n",
      "   [30]]\n",
      "\n",
      "  [[40]\n",
      "   [50]]]\n",
      "\n",
      "\n",
      " [[[30]\n",
      "   [40]]\n",
      "\n",
      "  [[50]\n",
      "   [60]]]\n",
      "\n",
      "\n",
      " [[[40]\n",
      "   [50]]\n",
      "\n",
      "  [[60]\n",
      "   [70]]]\n",
      "\n",
      "\n",
      " [[[50]\n",
      "   [60]]\n",
      "\n",
      "  [[70]\n",
      "   [80]]]]\n",
      "\n",
      "X.shape:  (5, 2, 2, 1)\n"
     ]
    }
   ],
   "source": [
    "# define input sequence\n",
    "raw_seq = [10, 20, 30, 40, 50, 60, 70, 80, 90]\n",
    "\n",
    "# choose a number of time steps\n",
    "n_steps = 4\n",
    "\n",
    "# split into samples\n",
    "X, y = split_sequence(raw_seq, n_steps)\n",
    "\n",
    "# reshape from [samples, timesteps] into [samples, subsequences, timesteps, features]\n",
    "n_features = 1\n",
    "n_seq = 2\n",
    "n_steps = 2\n",
    "X = X.reshape((X.shape[0], n_seq, n_steps, n_features))\n",
    "\n",
    "print(X)\n",
    "print(sep = \" \")\n",
    "print(\"X.shape: \", X.shape)"
   ]
  },
  {
   "cell_type": "code",
   "execution_count": 21,
   "id": "670810d9-05e2-437b-86cd-ab4c438d636c",
   "metadata": {},
   "outputs": [
    {
     "ename": "NameError",
     "evalue": "name 'TimeDistributed' is not defined",
     "output_type": "error",
     "traceback": [
      "\u001b[1;31m---------------------------------------------------------------------------\u001b[0m",
      "\u001b[1;31mNameError\u001b[0m                                 Traceback (most recent call last)",
      "\u001b[1;32m<ipython-input-21-b27d42a9b7f3>\u001b[0m in \u001b[0;36m<module>\u001b[1;34m\u001b[0m\n\u001b[0;32m      1\u001b[0m \u001b[1;33m...\u001b[0m\u001b[1;33m\u001b[0m\u001b[1;33m\u001b[0m\u001b[0m\n\u001b[1;32m----> 2\u001b[1;33m \u001b[0mmodel\u001b[0m\u001b[1;33m.\u001b[0m\u001b[0madd\u001b[0m\u001b[1;33m(\u001b[0m\u001b[0mTimeDistributed\u001b[0m\u001b[1;33m(\u001b[0m\u001b[0mConv1D\u001b[0m\u001b[1;33m(\u001b[0m\u001b[0mfilters\u001b[0m\u001b[1;33m=\u001b[0m\u001b[1;36m64\u001b[0m\u001b[1;33m,\u001b[0m \u001b[0mkernel_size\u001b[0m\u001b[1;33m=\u001b[0m\u001b[1;36m1\u001b[0m\u001b[1;33m,\u001b[0m \u001b[0mactivation\u001b[0m\u001b[1;33m=\u001b[0m\u001b[1;34m'relu'\u001b[0m\u001b[1;33m)\u001b[0m\u001b[1;33m,\u001b[0m \u001b[0minput_shape\u001b[0m\u001b[1;33m=\u001b[0m\u001b[1;33m(\u001b[0m\u001b[1;32mNone\u001b[0m\u001b[1;33m,\u001b[0m \u001b[0mn_steps\u001b[0m\u001b[1;33m,\u001b[0m \u001b[0mn_features\u001b[0m\u001b[1;33m)\u001b[0m\u001b[1;33m)\u001b[0m\u001b[1;33m)\u001b[0m\u001b[1;33m\u001b[0m\u001b[1;33m\u001b[0m\u001b[0m\n\u001b[0m",
      "\u001b[1;31mNameError\u001b[0m: name 'TimeDistributed' is not defined"
     ]
    }
   ],
   "source": [
    "...\n",
    "model.add(TimeDistributed(Conv1D(filters=64, kernel_size=1, activation='relu'), input_shape=(None, n_steps, n_features)))"
   ]
  },
  {
   "cell_type": "code",
   "execution_count": null,
   "id": "92ca6893-cb62-40cd-95d5-3cd935a63217",
   "metadata": {},
   "outputs": [],
   "source": [
    "model.add(TimeDistributed(MaxPooling1D(pool_size=2)))\n",
    "model.add(TimeDistributed(Flatten()))"
   ]
  },
  {
   "cell_type": "code",
   "execution_count": null,
   "id": "606b927f-a0dd-4247-81a9-0168732594dd",
   "metadata": {},
   "outputs": [],
   "source": [
    "...\n",
    "model.add(LSTM(50, activation='relu'))\n",
    "model.add(Dense(1))"
   ]
  },
  {
   "cell_type": "code",
   "execution_count": null,
   "id": "fccd4952-0e2e-457e-ae54-c302faaeb167",
   "metadata": {},
   "outputs": [],
   "source": [
    "# choose a number of time steps\n",
    "n_steps = 4\n",
    "# split into samples\n",
    "X, y = split_sequence(raw_seq, n_steps)\n",
    "\n",
    "# reshape from [samples, timesteps] into [samples, subsequences, timesteps, features]\n",
    "n_features = 1\n",
    "n_seq = 2\n",
    "n_steps = 2\n",
    "X = X.reshape((X.shape[0], n_seq, n_steps, n_features))"
   ]
  },
  {
   "cell_type": "code",
   "execution_count": null,
   "id": "171e20d6-9ce1-468a-9ee0-1352f06633f9",
   "metadata": {},
   "outputs": [],
   "source": [
    "# univariate cnn lstm example\n",
    "\n",
    "from numpy import array\n",
    "from keras.models import Sequential\n",
    "from keras.layers import LSTM\n",
    "from keras.layers import Dense\n",
    "from keras.layers import Flatten\n",
    "from keras.layers import TimeDistributed\n",
    "from keras.layers.convolutional import Conv1D\n",
    "from keras.layers.convolutional import MaxPooling1D\n",
    " \n",
    "# split a univariate sequence into samples\n",
    "def split_sequence(sequence, n_steps):\n",
    "    X, y = list(), list()\n",
    "    for i in range(len(sequence)):\n",
    "        # find the end of this pattern\n",
    "        end_ix = i + n_steps\n",
    "        # check if we are beyond the sequence\n",
    "        if end_ix > len(sequence)-1:\n",
    "            break\n",
    "        # gather input and output parts of the pattern\n",
    "        seq_x, seq_y = sequence[i:end_ix], sequence[end_ix]\n",
    "        X.append(seq_x)\n",
    "        y.append(seq_y)\n",
    "    return array(X), array(y)\n",
    " \n",
    "# define input sequence\n",
    "raw_seq = [10, 20, 30, 40, 50, 60, 70, 80, 90]\n",
    "\n",
    "# choose a number of time steps\n",
    "n_steps = 4\n",
    "# split into samples\n",
    "X, y = split_sequence(raw_seq, n_steps)\n",
    "\n",
    "# reshape from [samples, timesteps] into [samples, subsequences, timesteps, features]\n",
    "n_features = 1\n",
    "n_seq = 2\n",
    "n_steps = 2\n",
    "X = X.reshape((X.shape[0], n_seq, n_steps, n_features))\n",
    "\n",
    "# define model\n",
    "model = Sequential()\n",
    "model.add(TimeDistributed(Conv1D(filters=64, kernel_size=1, activation='relu'), \n",
    "                          input_shape=(None, n_steps, n_features)))\n",
    "model.add(TimeDistributed(MaxPooling1D(pool_size=2)))\n",
    "model.add(TimeDistributed(Flatten()))\n",
    "model.add(LSTM(50, activation='relu'))\n",
    "model.add(Dense(1))\n",
    "model.compile(optimizer='adam', loss='mse')\n",
    "\n",
    "# fit model\n",
    "model.fit(X, y, epochs=500, verbose=0)\n",
    "model.summary()\n",
    "\n",
    "# demonstrate prediction\n",
    "x_input = array([60, 70, 80, 90])\n",
    "x_input = x_input.reshape((1, n_seq, n_steps, n_features))\n",
    "yhat = model.predict(x_input, verbose=0)\n",
    "\n",
    "print(x_input)\n",
    "\n",
    "print(\"x_input.shape:\",x_input.shape)\n",
    "\n",
    "print(\"n_features: \",n_features)\n",
    "print(\"n_seq: \", n_seq)\n",
    "print(\"n_steps: \",n_steps)\n",
    "\n",
    "print(yhat)"
   ]
  },
  {
   "cell_type": "markdown",
   "id": "9605ea2c-8b93-4765-8332-be10eff6a3d0",
   "metadata": {},
   "source": [
    "# ConvLSTM"
   ]
  },
  {
   "cell_type": "code",
   "execution_count": null,
   "id": "0cd5131d-51f2-46c0-ac41-33049cf7adbf",
   "metadata": {},
   "outputs": [],
   "source": [
    "from numpy import array"
   ]
  },
  {
   "cell_type": "code",
   "execution_count": null,
   "id": "d684ae05-b89e-47a1-a63b-98a2908e2838",
   "metadata": {},
   "outputs": [],
   "source": [
    "raw_seq = [10,20,30,40,50,60,70,80,90]"
   ]
  },
  {
   "cell_type": "code",
   "execution_count": null,
   "id": "72478c69-eeeb-418c-8614-d18f39db7977",
   "metadata": {},
   "outputs": [],
   "source": [
    "# split a univariate sequence into samples\n",
    "def split_sequence(sequence,n_steps):\n",
    "    \n",
    "    # using list() function to create a list\n",
    "    X,y = list(), list()\n",
    "    \n",
    "    for i in range(len(sequence)):\n",
    "        \n",
    "        # find the end of this pattern\n",
    "        end_ix = i + n_steps\n",
    "        \n",
    "        # check if we are beyond the sequence\n",
    "        if end_ix > len(sequence)-1:\n",
    "            break\n",
    "        \n",
    "        # gather input and output parts of the pattern\n",
    "        seq_x, seq_y = sequence[i:end_ix], sequence[end_ix]\n",
    "        \n",
    "        X.append(seq_x)\n",
    "        y.append(seq_y)\n",
    "        \n",
    "    return array(X), array(y)"
   ]
  },
  {
   "cell_type": "raw",
   "id": "ca558e52-2170-41ef-9d53-399329b9ce9c",
   "metadata": {},
   "source": [
    "[samples, timesteps]"
   ]
  },
  {
   "cell_type": "raw",
   "id": "85056214-8c87-49e4-b3ca-25813a9965f4",
   "metadata": {},
   "source": [
    "[samples, subsequences, timesteps, features]"
   ]
  },
  {
   "cell_type": "raw",
   "id": "df121f46-231b-41ec-a8bc-f28f3c8e50b4",
   "metadata": {},
   "source": [
    "[samples, timesteps, rows, columns, features]"
   ]
  },
  {
   "cell_type": "code",
   "execution_count": null,
   "id": "0dfae63d-52aa-4a9d-99db-95d7797e0b53",
   "metadata": {},
   "outputs": [],
   "source": [
    "n_steps = 3\n",
    "n_features = 1"
   ]
  },
  {
   "cell_type": "raw",
   "id": "0ac0e81e-a4cc-4b7b-aeb0-c79f02275e23",
   "metadata": {},
   "source": [
    "n_features = 1\n",
    "n_seq = 2\n",
    "n_steps = 2"
   ]
  },
  {
   "cell_type": "code",
   "execution_count": null,
   "id": "27828fc2-ecac-4fc4-a75b-3388ba39216b",
   "metadata": {},
   "outputs": [],
   "source": [
    "# choose a number of timesteps\n",
    "n_steps = 4\n",
    "\n",
    "# split into samples\n",
    "X,y = split_sequence(raw_seq, n_steps)\n",
    "\n",
    "# print(X)\n",
    "# print(y)\n",
    "print(\"X.shape:\",X.shape)\n",
    "print(sep = \" \")\n",
    "# reshape from [samples, timesteps] into [samples, timesteps, rows, columns, features]\n",
    "n_features = 1\n",
    "n_seq = 2\n",
    "n_steps = 2\n",
    "X = X.reshape((X.shape[0], n_seq, 1, n_steps, n_features))\n",
    "\n",
    "# summarize the data\n",
    "for i in range(len(X)):\n",
    "    print(X[i], y[i])\n",
    "\n",
    "print(sep = \" \")    \n",
    "print(\"X.shape:\",X.shape)"
   ]
  },
  {
   "cell_type": "raw",
   "id": "7166ca72-055b-4b23-9947-1431d0697473",
   "metadata": {},
   "source": [
    "...........\n",
    "model.add(ConvLSTM2D(filters = 64, kernel_size = (1,2), activation = \"relu\", input_shape=(n_seq, 1, n_steps, n_features)))\n",
    "model.add(Flatten())"
   ]
  },
  {
   "cell_type": "code",
   "execution_count": null,
   "id": "5a2cb730-8a36-4c0e-9702-750e48c3a386",
   "metadata": {},
   "outputs": [],
   "source": [
    "# univariate convlstm example\n",
    "from numpy import array\n",
    "from keras.models import Sequential\n",
    "from keras.layers import LSTM\n",
    "from keras.layers import Dense\n",
    "from keras.layers import Flatten\n",
    "from keras.layers import ConvLSTM2D\n",
    " \n",
    "# split a univariate sequence into samples\n",
    "def split_sequence(sequence, n_steps):\n",
    "    X, y = list(), list()\n",
    "    for i in range(len(sequence)):\n",
    "        # find the end of this pattern\n",
    "        end_ix = i + n_steps\n",
    "        # check if we are beyond the sequence\n",
    "        if end_ix > len(sequence)-1:\n",
    "            break\n",
    "        # gather input and output parts of the pattern\n",
    "        seq_x, seq_y = sequence[i:end_ix], sequence[end_ix]\n",
    "        X.append(seq_x)\n",
    "        y.append(seq_y)\n",
    "    return array(X), array(y)\n",
    " \n",
    "# define input sequence\n",
    "raw_seq = [10, 20, 30, 40, 50, 60, 70, 80, 90]\n",
    "\n",
    "# choose a number of time steps\n",
    "n_steps = 4\n",
    "# split into samples\n",
    "X, y = split_sequence(raw_seq, n_steps)\n",
    "\n",
    "# reshape from [samples, timesteps] into [samples, timesteps, rows, columns, features]\n",
    "n_features = 1\n",
    "n_seq = 2\n",
    "n_steps = 2\n",
    "X = X.reshape((X.shape[0], n_seq, 1, n_steps, n_features))\n",
    "\n",
    "# define model\n",
    "model = Sequential()\n",
    "model.add(ConvLSTM2D(filters=64, kernel_size=(1,2), activation='relu', \n",
    "                     input_shape=(n_seq, 1, n_steps, n_features)))\n",
    "model.add(Flatten())\n",
    "model.add(Dense(1))\n",
    "model.compile(optimizer='adam', loss='mse')\n",
    "\n",
    "# fit model\n",
    "model.fit(X, y, epochs=500, verbose=0)\n",
    "print(sep = \" \")\n",
    "model.summary()\n",
    "print(sep = \" \")\n",
    "# demonstrate prediction\n",
    "x_input = array([60, 70, 80, 90])\n",
    "x_input = x_input.reshape((1, n_seq, 1, n_steps, n_features))\n",
    "yhat = model.predict(x_input, verbose=0)\n",
    "\n",
    "print(x_input)\n",
    "print(sep = \" \")\n",
    "print(\"x_input.shape:\", x_input.shape)\n",
    "print(sep = \" \")\n",
    "print(\"n_features: \", n_features)\n",
    "print(\"n_seq: \", n_seq)\n",
    "print(\"n_steps: \", n_steps)\n",
    "print(sep = \" \")\n",
    "print(yhat)"
   ]
  },
  {
   "cell_type": "markdown",
   "id": "71cb67d3-11b4-41fa-a501-b71bb2797278",
   "metadata": {},
   "source": [
    "# Multivariate Time Series Analysis"
   ]
  },
  {
   "cell_type": "raw",
   "id": "4798677b-5b85-478f-bfdc-d775eb3f047b",
   "metadata": {},
   "source": [
    "   X1  X2   Y = (X1 + X2)\n",
    "[[ 10  15  25]\n",
    " [ 20  25  45]\n",
    " [ 30  35  65]\n",
    " [ 40  45  85]\n",
    " [ 50  55 105]\n",
    " [ 60  65 125]\n",
    " [ 70  75 145]\n",
    " [ 80  85 165]\n",
    " [ 90  95 185]]"
   ]
  },
  {
   "cell_type": "markdown",
   "id": "846a1ae6-5c8f-4f3e-b7bc-e5a1dafb35da",
   "metadata": {},
   "source": [
    "## Multivariate Data Preparation"
   ]
  },
  {
   "cell_type": "code",
   "execution_count": null,
   "id": "7991b48f-91bc-47b5-b6a3-4efd0edd50d4",
   "metadata": {},
   "outputs": [],
   "source": [
    "# define input sequence\n",
    "\n",
    "from numpy import array\n",
    "\n",
    "in_seq1 = array([10, 20, 30, 40, 50, 60, 70, 80, 90])\n",
    "in_seq2 = array([15, 25, 35, 45, 55, 65, 75, 85, 95])\n",
    "\n",
    "out_seq = array([in_seq1[i]+in_seq2[i] for i in range(len(in_seq1))])"
   ]
  },
  {
   "cell_type": "code",
   "execution_count": null,
   "id": "993044e7-d2bd-468f-834a-9d47013bb74d",
   "metadata": {},
   "outputs": [],
   "source": [
    "# convert to [rows, columns] structure\n",
    "\n",
    "from numpy import hstack\n",
    "\n",
    "in_seq1 = in_seq1.reshape((len(in_seq1), 1))\n",
    "in_seq2 = in_seq2.reshape((len(in_seq2), 1))\n",
    "out_seq = out_seq.reshape((len(out_seq), 1))\n",
    "\n",
    "# horizontally stack columns\n",
    "dataset = hstack((in_seq1, in_seq2, out_seq))"
   ]
  },
  {
   "cell_type": "code",
   "execution_count": null,
   "id": "2d81a51c-b141-4f4f-839a-5ec0eb9ab469",
   "metadata": {},
   "outputs": [],
   "source": [
    "# multivariate data preparation\n",
    "\n",
    "from numpy import array\n",
    "from numpy import hstack\n",
    "\n",
    "# define input sequence\n",
    "in_seq1 = array([10, 20, 30])\n",
    "in_seq2 = array([15, 25, 35])\n",
    "out_seq = array([in_seq1[i]+in_seq2[i] for i in range(len(in_seq1))])\n",
    "\n",
    "in_seq1 = in_seq1.reshape((len(in_seq1), 1))\n",
    "in_seq2 = in_seq2.reshape((len(in_seq2), 1))\n",
    "out_seq = out_seq.reshape((len(out_seq), 1))\n",
    "\n",
    "# horizontally stack columns\n",
    "dataset = hstack((in_seq1, in_seq2, out_seq))\n",
    "print(dataset)"
   ]
  },
  {
   "cell_type": "code",
   "execution_count": null,
   "id": "ac83bb7e-2927-40c8-b033-f5c78d7d7a2e",
   "metadata": {},
   "outputs": [],
   "source": [
    "# split a multivariate sequence into samples\n",
    "\n",
    "def split_sequences(sequences, n_steps):\n",
    "    X, y = list(), list()\n",
    "    for i in range(len(sequences)):\n",
    "        # find the end of this pattern\n",
    "        end_ix = i + n_steps\n",
    "\n",
    "        # check if we are beyond the dataset\n",
    "        if end_ix > len(sequences):\n",
    "            break\n",
    "        \n",
    "        # gather input and output parts of the pattern\n",
    "        seq_x, seq_y = sequences[i:end_ix, :-1], sequences[end_ix-1,-1]\n",
    "        print(\"seq_x:\", seq_x)\n",
    "        print(sep = \" \")\n",
    "        print(\"seq_y:\",seq_y)\n",
    "        print(sep = \" \")\n",
    "        X.append(seq_x)\n",
    "        y.append(seq_y)\n",
    "        return array(X), array(y)"
   ]
  },
  {
   "cell_type": "code",
   "execution_count": null,
   "id": "c8a90bb5-9965-425a-89e5-c061ccb298e8",
   "metadata": {
    "tags": []
   },
   "outputs": [],
   "source": [
    "in_seq1 = array([10, 20, 30, 40, 50, 60, 70, 80, 90])\n",
    "print(in_seq1[:-1])"
   ]
  },
  {
   "cell_type": "code",
   "execution_count": null,
   "id": "5ffe725f-1d30-4731-8262-e111268127e5",
   "metadata": {},
   "outputs": [],
   "source": [
    "# choose a number of time steps\n",
    "n_steps = 3\n",
    "# convert into input/output\n",
    "X, y = split_sequences(dataset, n_steps)\n",
    "print(X, y)"
   ]
  },
  {
   "cell_type": "code",
   "execution_count": null,
   "id": "00d73eee-4796-4384-8208-df2cf93e87e1",
   "metadata": {},
   "outputs": [],
   "source": [
    "# Multivariate Data Preparation\n",
    "from numpy import array\n",
    "from numpy import hstack\n",
    " \n",
    "# split a multivariate sequence into samples\n",
    "def split_sequences(sequences, n_steps):\n",
    "    X, y = list(), list()\n",
    "    for i in range(len(sequences)):\n",
    "        # find the end of this pattern\n",
    "        end_ix = i + n_steps\n",
    "        # check if we are beyond the dataset\n",
    "        if end_ix > len(sequences):\n",
    "            break\n",
    "        # gather input and output parts of the pattern\n",
    "        seq_x, seq_y = sequences[i:end_ix, :-1], sequences[end_ix-1, -1]\n",
    "        X.append(seq_x)\n",
    "        y.append(seq_y)\n",
    "    return array(X), array(y)\n",
    " \n",
    "# define input sequence\n",
    "in_seq1 = array([10, 20, 30, 40, 50, 60, 70, 80, 90])\n",
    "in_seq2 = array([15, 25, 35, 45, 55, 65, 75, 85, 95])\n",
    "out_seq = array([in_seq1[i]+in_seq2[i] for i in range(len(in_seq1))])\n",
    "\n",
    "# convert to [rows, columns] structure\n",
    "in_seq1 = in_seq1.reshape((len(in_seq1), 1))\n",
    "in_seq2 = in_seq2.reshape((len(in_seq2), 1))\n",
    "out_seq = out_seq.reshape((len(out_seq), 1))\n",
    "\n",
    "# horizontally stack columns\n",
    "dataset = hstack((in_seq1, in_seq2, out_seq))\n",
    "\n",
    "# choose a number of time steps\n",
    "n_steps = 3\n",
    "# convert into input/output\n",
    "X, y = split_sequences(dataset, n_steps)\n",
    "print(X.shape, y.shape)\n",
    "# summarize the data\n",
    "for i in range(len(X)):\n",
    "    print(X[i], y[i]) "
   ]
  },
  {
   "cell_type": "code",
   "execution_count": null,
   "id": "82996cb8-75aa-408d-aa24-0928f1e4f80a",
   "metadata": {},
   "outputs": [],
   "source": [
    "from keras.models import Sequential\n",
    "from keras.layers import LSTM\n",
    "from keras.layers import Dense\n",
    "\n",
    "# the dataset knows the number of features, e.g. 2\n",
    "n_features = X.shape[2]\n",
    "\n",
    "...\n",
    "model = Sequential()\n",
    "model.add(LSTM(50, activation='relu', input_shape=(n_steps, n_features)))\n",
    "model.add(Dense(1))\n",
    "model.compile(optimizer='adam', loss='mse')\n",
    "\n",
    "model.summary()"
   ]
  },
  {
   "cell_type": "code",
   "execution_count": null,
   "id": "82fc839d-0233-4164-bb43-55c59e1661fd",
   "metadata": {},
   "outputs": [],
   "source": [
    "...\n",
    "# demonstrate prediction\n",
    "x_input = array([[80, 85], [90, 95], [100, 105]])\n",
    "x_input = x_input.reshape((1, n_steps, n_features))\n",
    "yhat = model.predict(x_input, verbose=0)\n",
    "\n",
    "print(x_input)\n",
    "print(sep = \" \")\n",
    "print(\"x_input.shape: \", x_input.shape)"
   ]
  },
  {
   "cell_type": "raw",
   "id": "2b52e5cb-579b-47fd-9cd4-47e7d2d4124a",
   "metadata": {},
   "source": [
    "80,  85\n",
    "90,  95\n",
    "100, 105"
   ]
  },
  {
   "cell_type": "code",
   "execution_count": null,
   "id": "5931adf2-c5f5-4c97-b6e2-405352a4ec2d",
   "metadata": {},
   "outputs": [],
   "source": [
    "# multivariate lstm example\n",
    "from numpy import array\n",
    "from numpy import hstack\n",
    "from keras.models import Sequential\n",
    "from keras.layers import LSTM\n",
    "from keras.layers import Dense\n",
    " \n",
    "# split a multivariate sequence into samples\n",
    "def split_sequences(sequences, n_steps):\n",
    "    X, y = list(), list()\n",
    "    for i in range(len(sequences)):\n",
    "        # find the end of this pattern\n",
    "        end_ix = i + n_steps\n",
    "        # check if we are beyond the dataset\n",
    "        if end_ix > len(sequences):\n",
    "            break\n",
    "        # gather input and output parts of the pattern\n",
    "        seq_x, seq_y = sequences[i:end_ix, :-1], sequences[end_ix-1, -1]\n",
    "        X.append(seq_x)\n",
    "        y.append(seq_y)\n",
    "    return array(X), array(y)\n",
    " \n",
    "# define input sequence\n",
    "in_seq1 = array([10, 20, 30, 40, 50, 60, 70, 80, 90])\n",
    "in_seq2 = array([15, 25, 35, 45, 55, 65, 75, 85, 95])\n",
    "out_seq = array([in_seq1[i]+in_seq2[i] for i in range(len(in_seq1))])\n",
    "\n",
    "# convert to [rows, columns] structure\n",
    "in_seq1 = in_seq1.reshape((len(in_seq1), 1))\n",
    "in_seq2 = in_seq2.reshape((len(in_seq2), 1))\n",
    "out_seq = out_seq.reshape((len(out_seq), 1))\n",
    "# horizontally stack columns\n",
    "dataset = hstack((in_seq1, in_seq2, out_seq))\n",
    "\n",
    "# choose a number of time steps\n",
    "n_steps = 3\n",
    "# convert into input/output\n",
    "X, y = split_sequences(dataset, n_steps)\n",
    "# the dataset knows the number of features, e.g. 2\n",
    "n_features = X.shape[2]\n",
    "\n",
    "# define model\n",
    "model = Sequential()\n",
    "model.add(LSTM(50, activation='relu', input_shape=(n_steps, n_features)))\n",
    "model.add(Dense(1))\n",
    "model.compile(optimizer='adam', loss='mse')\n",
    "# fit model\n",
    "model.fit(X, y, epochs=200, verbose=0)\n",
    "\n",
    "# demonstrate prediction\n",
    "x_input = array([[80, 85], [90, 95], [100, 105]])\n",
    "x_input = x_input.reshape((1, n_steps, n_features))\n",
    "yhat = model.predict(x_input, verbose=0)\n",
    "\n",
    "print(x_input)\n",
    "\n",
    "print(\"x_input.shape: \",x_input.shape)\n",
    "\n",
    "print(yhat)"
   ]
  },
  {
   "cell_type": "markdown",
   "id": "2e9c778c-1cd8-41a0-82dc-040f1b2d97dd",
   "metadata": {},
   "source": [
    "# Multiple Parallel Series"
   ]
  },
  {
   "cell_type": "markdown",
   "id": "43a29512-a19c-44d7-8d75-813bffb0448a",
   "metadata": {},
   "source": [
    "**Input**:"
   ]
  },
  {
   "cell_type": "code",
   "execution_count": null,
   "id": "c83bdca4-62d0-4e9b-afb3-365cd057350e",
   "metadata": {},
   "outputs": [],
   "source": [
    "10, 15, 25\n",
    "20, 25, 45\n",
    "30, 35, 65"
   ]
  },
  {
   "cell_type": "markdown",
   "id": "18f72442-faa8-41f5-930c-7a17cbecaa9e",
   "metadata": {},
   "source": [
    "**Output:**"
   ]
  },
  {
   "cell_type": "code",
   "execution_count": null,
   "id": "0ac58ff5-0bd3-47dc-a9af-24784d3e8f3e",
   "metadata": {},
   "outputs": [],
   "source": [
    "40, 45, 85"
   ]
  },
  {
   "cell_type": "code",
   "execution_count": null,
   "id": "4c22a9a1-a81e-488c-a408-780a955d6d6a",
   "metadata": {},
   "outputs": [],
   "source": [
    "from numpy import array\n",
    "from numpy import hstack"
   ]
  },
  {
   "cell_type": "raw",
   "id": "6853a75c-19c7-4ca7-a8e3-a99dee2fd703",
   "metadata": {},
   "source": [
    "[[ 10  15  25]\n",
    " [ 20  25  45]\n",
    " [ 30  35  65]\n",
    " [ 40  45  85]\n",
    " [ 50  55 105]\n",
    " [ 60  65 125]\n",
    " [ 70  75 145]\n",
    " [ 80  85 165]\n",
    " [ 90  95 185]]"
   ]
  },
  {
   "cell_type": "code",
   "execution_count": null,
   "id": "fe615613-de05-42da-9f98-e9c0a429760f",
   "metadata": {},
   "outputs": [],
   "source": [
    "def split_sequences(sequences, n_steps):\n",
    "    X, y = list(), list()\n",
    "    for i in range(len(sequences)):\n",
    "        # find the end of this pattern\n",
    "        end_ix = i + n_steps\n",
    "        # check if we are beyond the dataset\n",
    "        if end_ix > len(sequences)-1:\n",
    "            break\n",
    "        # gather input and output parts of the pattern\n",
    "        seq_x, seq_y = sequences[i:end_ix, :], sequences[end_ix, :]\n",
    "        print(\"seq_x: \", seq_x)\n",
    "        print(sep = \" \")\n",
    "        print(\"seq_y: \",seq_y )\n",
    "        print(sep = \" \")\n",
    "        X.append(seq_x)\n",
    "        print(sep = \" \")\n",
    "        y.append(seq_y)\n",
    "        print(sep = \" \")\n",
    "    return array(X), array(y)"
   ]
  },
  {
   "cell_type": "code",
   "execution_count": null,
   "id": "e87ec50d-0f09-413c-b506-87ed5e3be062",
   "metadata": {},
   "outputs": [],
   "source": [
    "# multivariate output data preparation\n",
    "from numpy import array\n",
    "from numpy import hstack\n",
    " \n",
    "# # split a multivariate sequence into samples\n",
    "# def split_sequences(sequences, n_steps):\n",
    "#     X, y = list(), list()\n",
    "#     for i in range(len(sequences)):\n",
    "#         # find the end of this pattern\n",
    "#         end_ix = i + n_steps\n",
    "#         # check if we are beyond the dataset\n",
    "#         if end_ix > len(sequences)-1:\n",
    "#             break\n",
    "#         # gather input and output parts of the pattern\n",
    "#         seq_x, seq_y = sequences[i:end_ix, :], sequences[end_ix, :]\n",
    "#         X.append(seq_x)\n",
    "#         y.append(seq_y)\n",
    "#     return array(X), array(y)\n",
    " \n",
    "# define input sequence\n",
    "in_seq1 = array([10, 20, 30, 40, 50, 60, 70, 80, 90])\n",
    "in_seq2 = array([15, 25, 35, 45, 55, 65, 75, 85, 95])\n",
    "out_seq = array([in_seq1[i]+in_seq2[i] for i in range(len(in_seq1))])\n",
    "\n",
    "# convert to [rows, columns] structure\n",
    "in_seq1 = in_seq1.reshape((len(in_seq1), 1))\n",
    "in_seq2 = in_seq2.reshape((len(in_seq2), 1))\n",
    "out_seq = out_seq.reshape((len(out_seq), 1))\n",
    "# horizontally stack columns\n",
    "dataset = hstack((in_seq1, in_seq2, out_seq))\n",
    "\n",
    "# choose a number of time steps\n",
    "n_steps = 3\n",
    "\n",
    "# convert into input/output\n",
    "X, y = split_sequences(dataset, n_steps)\n",
    "print(X.shape, y.shape)\n",
    "# summarize the data\n",
    "for i in range(len(X)):\n",
    "    print(X[i], y[i])"
   ]
  },
  {
   "cell_type": "code",
   "execution_count": null,
   "id": "6cb5d86e-446b-45a3-89eb-c3d4cdec61af",
   "metadata": {},
   "outputs": [],
   "source": [
    "x = \"ABCDE\"\n",
    "print(x[:])"
   ]
  },
  {
   "cell_type": "code",
   "execution_count": null,
   "id": "f43a1220-3042-49c6-917d-caef65648b7f",
   "metadata": {},
   "outputs": [],
   "source": [
    "from keras.models import Sequential\n",
    "from keras.layers import LSTM\n",
    "from keras.layers import Dense\n",
    "\n",
    "# the dataset knows the number of features, e.g. 2\n",
    "n_features = X.shape[2]\n",
    "\n",
    "# define model\n",
    "...\n",
    "model = Sequential()\n",
    "model.add(LSTM(100, activation='relu', return_sequences=True, input_shape=(n_steps, n_features)))\n",
    "model.add(LSTM(100, activation='relu'))\n",
    "model.add(Dense(n_features))\n",
    "model.compile(optimizer='adam', loss='mse')\n",
    "\n",
    "model.summary()"
   ]
  },
  {
   "cell_type": "code",
   "execution_count": null,
   "id": "02c7c86d-f139-41ed-a25d-e1872c828f9d",
   "metadata": {},
   "outputs": [],
   "source": [
    "...\n",
    "# demonstrate prediction\n",
    "x_input = array([[70,75,145], [80,85,165], [90,95,185]])\n",
    "x_input = x_input.reshape((1, n_steps, n_features))\n",
    "yhat = model.predict(x_input, verbose=0)"
   ]
  },
  {
   "cell_type": "raw",
   "id": "3a9c905c-2b4b-46d3-847c-fd8fc8ae0e35",
   "metadata": {},
   "source": [
    "[100, 105, 205]"
   ]
  },
  {
   "cell_type": "code",
   "execution_count": null,
   "id": "ff16870b-4d04-4a29-b4da-0ae38f028702",
   "metadata": {},
   "outputs": [],
   "source": [
    "# multivariate output stacked lstm example\n",
    "from numpy import array\n",
    "from numpy import hstack\n",
    "from keras.models import Sequential\n",
    "from keras.layers import LSTM\n",
    "from keras.layers import Dense\n",
    " \n",
    "# split a multivariate sequence into samples\n",
    "def split_sequences(sequences, n_steps):\n",
    "    X, y = list(), list()\n",
    "    for i in range(len(sequences)):\n",
    "        # find the end of this pattern\n",
    "        end_ix = i + n_steps\n",
    "        # check if we are beyond the dataset\n",
    "        if end_ix > len(sequences)-1:\n",
    "            break\n",
    "        # gather input and output parts of the pattern\n",
    "        seq_x, seq_y = sequences[i:end_ix, :], sequences[end_ix, :]\n",
    "        X.append(seq_x)\n",
    "        y.append(seq_y)\n",
    "    return array(X), array(y)\n",
    " \n",
    "# define input sequence\n",
    "in_seq1 = array([10, 20, 30, 40, 50, 60, 70, 80, 90])\n",
    "in_seq2 = array([15, 25, 35, 45, 55, 65, 75, 85, 95])\n",
    "out_seq = array([in_seq1[i]+in_seq2[i] for i in range(len(in_seq1))])\n",
    "# convert to [rows, columns] structure\n",
    "in_seq1 = in_seq1.reshape((len(in_seq1), 1))\n",
    "in_seq2 = in_seq2.reshape((len(in_seq2), 1))\n",
    "out_seq = out_seq.reshape((len(out_seq), 1))\n",
    "# horizontally stack columns\n",
    "dataset = hstack((in_seq1, in_seq2, out_seq))\n",
    "\n",
    "# choose a number of time steps\n",
    "n_steps = 3\n",
    "# convert into input/output\n",
    "X, y = split_sequences(dataset, n_steps)\n",
    "# the dataset knows the number of features, e.g. 2\n",
    "n_features = X.shape[2]\n",
    "\n",
    "# define model\n",
    "model = Sequential()\n",
    "model.add(LSTM(100, activation='relu', return_sequences=True, input_shape=(n_steps, n_features)))\n",
    "model.add(LSTM(100, activation='relu'))\n",
    "model.add(Dense(n_features))\n",
    "model.compile(optimizer='adam', loss='mse')\n",
    "# fit model\n",
    "model.fit(X, y, epochs=400, verbose=0)\n",
    "\n",
    "# demonstrate prediction\n",
    "x_input = array([[70,75,145], [80,85,165], [90,95,185]])\n",
    "x_input = x_input.reshape((1, n_steps, n_features))\n",
    "yhat = model.predict(x_input, verbose=0)\n",
    "\n",
    "print(x_input)\n",
    "\n",
    "print(\"x_input.shape: \",x_input.shape)\n",
    "\n",
    "print(yhat)"
   ]
  },
  {
   "cell_type": "markdown",
   "id": "58bf500e-f368-4606-b98f-033cfe9484bf",
   "metadata": {},
   "source": [
    "# Multi-Step Time Series Forecasting"
   ]
  },
  {
   "cell_type": "markdown",
   "id": "7e4b7542-53c0-4381-bef9-b8f077575f11",
   "metadata": {},
   "source": [
    "**Input**"
   ]
  },
  {
   "cell_type": "code",
   "execution_count": null,
   "id": "dc3d271e-2b0d-4f74-9b7d-75c9d6783f3e",
   "metadata": {},
   "outputs": [],
   "source": [
    "[10,20,30]"
   ]
  },
  {
   "cell_type": "markdown",
   "id": "73b65106-0bbb-45a4-8370-dc49dd39e574",
   "metadata": {},
   "source": [
    "**Output**:"
   ]
  },
  {
   "cell_type": "code",
   "execution_count": null,
   "id": "9cdbd8d4-009a-4e82-a3c0-5404d29efcd8",
   "metadata": {},
   "outputs": [],
   "source": [
    "[40,50]"
   ]
  },
  {
   "cell_type": "markdown",
   "id": "88607382-58b2-498c-ad66-487dfa29c306",
   "metadata": {
    "tags": []
   },
   "source": [
    "[10, 20, 30, 40, 50, 60, 70, 80, 90]"
   ]
  },
  {
   "cell_type": "code",
   "execution_count": 22,
   "id": "04539174-5b66-44fb-b202-d3314890bd97",
   "metadata": {},
   "outputs": [],
   "source": [
    "from numpy import array"
   ]
  },
  {
   "cell_type": "code",
   "execution_count": 23,
   "id": "07f7471f-daa3-4667-a054-60dbef30e188",
   "metadata": {},
   "outputs": [
    {
     "ename": "TypeError",
     "evalue": "split_sequence() takes 2 positional arguments but 3 were given",
     "output_type": "error",
     "traceback": [
      "\u001b[1;31m---------------------------------------------------------------------------\u001b[0m",
      "\u001b[1;31mTypeError\u001b[0m                                 Traceback (most recent call last)",
      "\u001b[1;32m<ipython-input-23-ac1921432d3f>\u001b[0m in \u001b[0;36m<module>\u001b[1;34m\u001b[0m\n\u001b[0;32m      4\u001b[0m \u001b[0mn_steps_in\u001b[0m\u001b[1;33m,\u001b[0m \u001b[0mn_steps_out\u001b[0m \u001b[1;33m=\u001b[0m \u001b[1;36m3\u001b[0m\u001b[1;33m,\u001b[0m \u001b[1;36m2\u001b[0m\u001b[1;33m\u001b[0m\u001b[1;33m\u001b[0m\u001b[0m\n\u001b[0;32m      5\u001b[0m \u001b[1;31m# split into samples\u001b[0m\u001b[1;33m\u001b[0m\u001b[1;33m\u001b[0m\u001b[1;33m\u001b[0m\u001b[0m\n\u001b[1;32m----> 6\u001b[1;33m \u001b[0mX\u001b[0m\u001b[1;33m,\u001b[0m \u001b[0my\u001b[0m \u001b[1;33m=\u001b[0m \u001b[0msplit_sequence\u001b[0m\u001b[1;33m(\u001b[0m\u001b[0mraw_seq\u001b[0m\u001b[1;33m,\u001b[0m \u001b[0mn_steps_in\u001b[0m\u001b[1;33m,\u001b[0m \u001b[0mn_steps_out\u001b[0m\u001b[1;33m)\u001b[0m\u001b[1;33m\u001b[0m\u001b[1;33m\u001b[0m\u001b[0m\n\u001b[0m\u001b[0;32m      7\u001b[0m \u001b[1;31m# summarize the data\u001b[0m\u001b[1;33m\u001b[0m\u001b[1;33m\u001b[0m\u001b[1;33m\u001b[0m\u001b[0m\n\u001b[0;32m      8\u001b[0m \u001b[1;32mfor\u001b[0m \u001b[0mi\u001b[0m \u001b[1;32min\u001b[0m \u001b[0mrange\u001b[0m\u001b[1;33m(\u001b[0m\u001b[0mlen\u001b[0m\u001b[1;33m(\u001b[0m\u001b[0mX\u001b[0m\u001b[1;33m)\u001b[0m\u001b[1;33m)\u001b[0m\u001b[1;33m:\u001b[0m\u001b[1;33m\u001b[0m\u001b[1;33m\u001b[0m\u001b[0m\n",
      "\u001b[1;31mTypeError\u001b[0m: split_sequence() takes 2 positional arguments but 3 were given"
     ]
    }
   ],
   "source": [
    "# define input sequence\n",
    "raw_seq = [10, 20, 30, 40, 50, 60, 70, 80, 90]\n",
    "# choose a number of time steps\n",
    "n_steps_in, n_steps_out = 3, 2\n",
    "# split into samples\n",
    "X, y = split_sequence(raw_seq, n_steps_in, n_steps_out)\n",
    "# summarize the data\n",
    "for i in range(len(X)):\n",
    "    print(X[i], y[i])"
   ]
  },
  {
   "cell_type": "code",
   "execution_count": 24,
   "id": "bd7edd9a-2832-41aa-ac96-22f16807f4a3",
   "metadata": {},
   "outputs": [],
   "source": [
    "# split a univariate sequence into samples\n",
    "def split_sequence(sequence, n_steps_in, n_steps_out):\n",
    "    X, y = list(), list()\n",
    "    for i in range(len(sequence)):\n",
    "        # find the end of this pattern\n",
    "        end_ix = i + n_steps_in\n",
    "        out_end_ix = end_ix + n_steps_out\n",
    "        # check if we are beyond the sequence\n",
    "        if out_end_ix > len(sequence):\n",
    "            break\n",
    "        # gather input and output parts of the pattern\n",
    "        seq_x, seq_y = sequence[i:end_ix], sequence[end_ix:out_end_ix]\n",
    "        print(\"seq_x: \",seq_x)\n",
    "        print(\"seq_y: \",seq_y)\n",
    "        X.append(seq_x)\n",
    "        y.append(seq_y)\n",
    "        print(sep = \" \")\n",
    "    return array(X), array(y)"
   ]
  },
  {
   "cell_type": "code",
   "execution_count": 25,
   "id": "eb0e79bf-2ba2-4718-a5e8-0fa582a93865",
   "metadata": {},
   "outputs": [
    {
     "name": "stdout",
     "output_type": "stream",
     "text": [
      "[10 20 30] [40 50]\n",
      "[20 30 40] [50 60]\n",
      "[30 40 50] [60 70]\n",
      "[40 50 60] [70 80]\n",
      "[50 60 70] [80 90]\n"
     ]
    }
   ],
   "source": [
    "# multi-step data preparation\n",
    "from numpy import array\n",
    " \n",
    "# split a univariate sequence into samples\n",
    "def split_sequence(sequence, n_steps_in, n_steps_out):\n",
    "    X, y = list(), list()\n",
    "    for i in range(len(sequence)):\n",
    "        # find the end of this pattern\n",
    "        end_ix = i + n_steps_in\n",
    "        out_end_ix = end_ix + n_steps_out\n",
    "        # check if we are beyond the sequence\n",
    "        if out_end_ix > len(sequence):\n",
    "            break\n",
    "        # gather input and output parts of the pattern\n",
    "        seq_x, seq_y = sequence[i:end_ix], sequence[end_ix:out_end_ix]\n",
    "        X.append(seq_x)\n",
    "        y.append(seq_y)\n",
    "    return array(X), array(y)\n",
    " \n",
    "# define input sequence\n",
    "raw_seq = [10, 20, 30, 40, 50, 60, 70, 80, 90]\n",
    "# choose a number of time steps\n",
    "n_steps_in, n_steps_out = 3, 2\n",
    "# split into samples\n",
    "X, y = split_sequence(raw_seq, n_steps_in, n_steps_out)\n",
    "# summarize the data\n",
    "for i in range(len(X)):\n",
    "    print(X[i], y[i])"
   ]
  },
  {
   "cell_type": "raw",
   "id": "0c598570-a3e1-4822-ac9f-06394e0b481f",
   "metadata": {},
   "source": [
    "[samples, timesteps, features]"
   ]
  },
  {
   "cell_type": "markdown",
   "id": "b71d2c74-c9e8-40c0-9c9b-d9a0925568e9",
   "metadata": {},
   "source": [
    "## Vector Output Model"
   ]
  },
  {
   "cell_type": "code",
   "execution_count": 26,
   "id": "a147ddf9-8da9-42f3-b89d-d3bd50e426e9",
   "metadata": {},
   "outputs": [],
   "source": [
    "...\n",
    "# reshape from [samples, timesteps] into [samples, timesteps, features]\n",
    "n_features = 1\n",
    "X = X.reshape((X.shape[0], X.shape[1], n_features))"
   ]
  },
  {
   "cell_type": "code",
   "execution_count": 27,
   "id": "0c45575b-7799-40cf-8301-399608f16c1c",
   "metadata": {},
   "outputs": [
    {
     "name": "stdout",
     "output_type": "stream",
     "text": [
      "WARNING:tensorflow:5 out of the last 5 calls to <function Model.make_predict_function.<locals>.predict_function at 0x000001B4C09885E0> triggered tf.function retracing. Tracing is expensive and the excessive number of tracings could be due to (1) creating @tf.function repeatedly in a loop, (2) passing tensors with different shapes, (3) passing Python objects instead of tensors. For (1), please define your @tf.function outside of the loop. For (2), @tf.function has experimental_relax_shapes=True option that relaxes argument shapes that can avoid unnecessary retracing. For (3), please refer to https://www.tensorflow.org/guide/function#controlling_retracing and https://www.tensorflow.org/api_docs/python/tf/function for  more details.\n",
      "[[[70]\n",
      "  [80]\n",
      "  [90]]]\n",
      "\n",
      "x_input.shape:  (1, 3, 1)\n",
      "\n",
      "[[113.00238 131.90378]]\n"
     ]
    }
   ],
   "source": [
    "# univariate multi-step vector-output stacked lstm example\n",
    "from numpy import array\n",
    "from keras.models import Sequential\n",
    "from keras.layers import LSTM\n",
    "from keras.layers import Dense\n",
    " \n",
    "# split a univariate sequence into samples\n",
    "def split_sequence(sequence, n_steps_in, n_steps_out):\n",
    "    X, y = list(), list()\n",
    "    for i in range(len(sequence)):\n",
    "        # find the end of this pattern\n",
    "        end_ix = i + n_steps_in\n",
    "        out_end_ix = end_ix + n_steps_out\n",
    "        # check if we are beyond the sequence\n",
    "        if out_end_ix > len(sequence):\n",
    "            break\n",
    "        # gather input and output parts of the pattern\n",
    "        seq_x, seq_y = sequence[i:end_ix], sequence[end_ix:out_end_ix]\n",
    "        X.append(seq_x)\n",
    "        y.append(seq_y)\n",
    "    return array(X), array(y)\n",
    " \n",
    "# define input sequence\n",
    "raw_seq = [10, 20, 30, 40, 50, 60, 70, 80, 90]\n",
    "# choose a number of time steps\n",
    "n_steps_in, n_steps_out = 3, 2\n",
    "# split into samples\n",
    "X, y = split_sequence(raw_seq, n_steps_in, n_steps_out)\n",
    "# reshape from [samples, timesteps] into [samples, timesteps, features]\n",
    "n_features = 1\n",
    "X = X.reshape((X.shape[0], X.shape[1], n_features))\n",
    "\n",
    "# define model\n",
    "model = Sequential()\n",
    "model.add(LSTM(100, activation='relu', return_sequences=True, input_shape=(n_steps_in, n_features)))\n",
    "model.add(LSTM(100, activation='relu'))\n",
    "model.add(Dense(n_steps_out))\n",
    "model.compile(optimizer='adam', loss='mse')\n",
    "# fit model\n",
    "model.fit(X, y, epochs=50, verbose=0)\n",
    "\n",
    "\n",
    "# demonstrate prediction\n",
    "x_input = array([70, 80, 90])\n",
    "x_input = x_input.reshape((1, n_steps_in, n_features))\n",
    "yhat = model.predict(x_input, verbose=0)\n",
    "\n",
    "print(x_input)\n",
    "print(sep = \" \")\n",
    "print(\"x_input.shape: \",x_input.shape)\n",
    "print(sep = \" \")\n",
    "print(yhat)"
   ]
  },
  {
   "cell_type": "markdown",
   "id": "7f9f55a5-0aef-425b-b423-794f2a7560b4",
   "metadata": {
    "tags": []
   },
   "source": [
    "## Encoder Decoder Model"
   ]
  },
  {
   "cell_type": "code",
   "execution_count": 28,
   "id": "830eddd8-0d48-4145-b827-4742bd5a5556",
   "metadata": {},
   "outputs": [
    {
     "ename": "NameError",
     "evalue": "name 'RepeatVector' is not defined",
     "output_type": "error",
     "traceback": [
      "\u001b[1;31m---------------------------------------------------------------------------\u001b[0m",
      "\u001b[1;31mNameError\u001b[0m                                 Traceback (most recent call last)",
      "\u001b[1;32m<ipython-input-28-7328acc3c7c9>\u001b[0m in \u001b[0;36m<module>\u001b[1;34m\u001b[0m\n\u001b[0;32m      4\u001b[0m \u001b[0mmodel\u001b[0m\u001b[1;33m.\u001b[0m\u001b[0madd\u001b[0m\u001b[1;33m(\u001b[0m\u001b[0mLSTM\u001b[0m\u001b[1;33m(\u001b[0m\u001b[1;36m100\u001b[0m\u001b[1;33m,\u001b[0m \u001b[0mactivation\u001b[0m\u001b[1;33m=\u001b[0m\u001b[1;34m'relu'\u001b[0m\u001b[1;33m,\u001b[0m \u001b[0minput_shape\u001b[0m\u001b[1;33m=\u001b[0m\u001b[1;33m(\u001b[0m\u001b[0mn_steps_in\u001b[0m\u001b[1;33m,\u001b[0m \u001b[0mn_features\u001b[0m\u001b[1;33m)\u001b[0m\u001b[1;33m)\u001b[0m\u001b[1;33m)\u001b[0m\u001b[1;33m\u001b[0m\u001b[1;33m\u001b[0m\u001b[0m\n\u001b[0;32m      5\u001b[0m \u001b[1;33m\u001b[0m\u001b[0m\n\u001b[1;32m----> 6\u001b[1;33m \u001b[0mmodel\u001b[0m\u001b[1;33m.\u001b[0m\u001b[0madd\u001b[0m\u001b[1;33m(\u001b[0m\u001b[0mRepeatVector\u001b[0m\u001b[1;33m(\u001b[0m\u001b[0mn_steps_out\u001b[0m\u001b[1;33m)\u001b[0m\u001b[1;33m)\u001b[0m\u001b[1;33m\u001b[0m\u001b[1;33m\u001b[0m\u001b[0m\n\u001b[0m\u001b[0;32m      7\u001b[0m \u001b[0mmodel\u001b[0m\u001b[1;33m.\u001b[0m\u001b[0madd\u001b[0m\u001b[1;33m(\u001b[0m\u001b[0mLSTM\u001b[0m\u001b[1;33m(\u001b[0m\u001b[1;36m100\u001b[0m\u001b[1;33m,\u001b[0m \u001b[0mactivation\u001b[0m\u001b[1;33m=\u001b[0m\u001b[1;34m'relu'\u001b[0m\u001b[1;33m,\u001b[0m \u001b[0mreturn_sequences\u001b[0m\u001b[1;33m=\u001b[0m\u001b[1;32mTrue\u001b[0m\u001b[1;33m)\u001b[0m\u001b[1;33m)\u001b[0m\u001b[1;33m\u001b[0m\u001b[1;33m\u001b[0m\u001b[0m\n\u001b[0;32m      8\u001b[0m \u001b[1;33m\u001b[0m\u001b[0m\n",
      "\u001b[1;31mNameError\u001b[0m: name 'RepeatVector' is not defined"
     ]
    }
   ],
   "source": [
    "...\n",
    "# define model\n",
    "model = Sequential()\n",
    "model.add(LSTM(100, activation='relu', input_shape=(n_steps_in, n_features)))\n",
    "\n",
    "model.add(RepeatVector(n_steps_out))\n",
    "model.add(LSTM(100, activation='relu', return_sequences=True))\n",
    "\n",
    "model.add(TimeDistributed(Dense(1)))\n",
    "model.compile(optimizer='adam', loss='mse')"
   ]
  },
  {
   "cell_type": "code",
   "execution_count": null,
   "id": "f073d7d9-f3bc-4437-a36a-4f36ca1f199b",
   "metadata": {},
   "outputs": [],
   "source": [
    "...\n",
    "X = X.reshape((X.shape[0], X.shape[1], n_features))"
   ]
  },
  {
   "cell_type": "code",
   "execution_count": null,
   "id": "4ad8f657-194f-4ef6-bed7-005304d157bf",
   "metadata": {},
   "outputs": [],
   "source": [
    "...\n",
    "y = y.reshape((y.shape[0], y.shape[1], n_features))"
   ]
  },
  {
   "cell_type": "code",
   "execution_count": null,
   "id": "203492f6-cc99-424e-884a-473062da5223",
   "metadata": {},
   "outputs": [],
   "source": [
    "# define input sequence\n",
    "raw_seq = [10, 20, 30, 40, 50, 60, 70, 80, 90]\n",
    "# choose a number of time steps\n",
    "n_steps_in, n_steps_out = 3, 2\n",
    "# split into samples\n",
    "X, y = split_sequence(raw_seq, n_steps_in, n_steps_out)\n",
    "# reshape from [samples, timesteps] into [samples, timesteps, features]\n",
    "n_features = 1\n",
    "X = X.reshape((X.shape[0], X.shape[1], n_features))\n",
    "y = y.reshape((y.shape[0], y.shape[1], n_features))\n",
    "\n",
    "# # summarize the data\n",
    "# for i in range(len(X)):\n",
    "#     print(sep = \" \")\n",
    "#     print(y[i])\n",
    "\n",
    "# print(sep = \" \")\n",
    "# print(\"y.shape: \",y.shape)\n",
    "\n"
   ]
  },
  {
   "cell_type": "code",
   "execution_count": null,
   "id": "e5a6fdce-23c6-461c-8555-fbad2a76fac3",
   "metadata": {},
   "outputs": [],
   "source": [
    "# univariate multi-step encoder-decoder lstm example\n",
    "\n",
    "from numpy import array\n",
    "from keras.models import Sequential\n",
    "from keras.layers import LSTM\n",
    "from keras.layers import Dense\n",
    "from keras.layers import RepeatVector\n",
    "from keras.layers import TimeDistributed\n",
    " \n",
    "# split a univariate sequence into samples\n",
    "def split_sequence(sequence, n_steps_in, n_steps_out):\n",
    "    X, y = list(), list()\n",
    "    for i in range(len(sequence)):\n",
    "        # find the end of this pattern\n",
    "        end_ix = i + n_steps_in\n",
    "        out_end_ix = end_ix + n_steps_out\n",
    "        # check if we are beyond the sequence\n",
    "        if out_end_ix > len(sequence):\n",
    "            break\n",
    "        # gather input and output parts of the pattern\n",
    "        seq_x, seq_y = sequence[i:end_ix], sequence[end_ix:out_end_ix]\n",
    "        X.append(seq_x)\n",
    "        y.append(seq_y)\n",
    "    return array(X), array(y)\n",
    " \n",
    "# define input sequence\n",
    "raw_seq = [10, 20, 30, 40, 50, 60, 70, 80, 90]\n",
    "\n",
    "# choose a number of time steps\n",
    "n_steps_in, n_steps_out = 3, 2\n",
    "# split into samples\n",
    "X, y = split_sequence(raw_seq, n_steps_in, n_steps_out)\n",
    "# reshape from [samples, timesteps] into [samples, timesteps, features]\n",
    "n_features = 1\n",
    "X = X.reshape((X.shape[0], X.shape[1], n_features))\n",
    "y = y.reshape((y.shape[0], y.shape[1], n_features))\n",
    "\n",
    "# define model\n",
    "model = Sequential()\n",
    "model.add(LSTM(100, activation='relu', input_shape=(n_steps_in, n_features)))\n",
    "model.add(RepeatVector(n_steps_out))\n",
    "model.add(LSTM(100, activation='relu', return_sequences=True))\n",
    "model.add(TimeDistributed(Dense(1)))\n",
    "model.compile(optimizer='adam', loss='mse')\n",
    "# fit model\n",
    "model.fit(X, y, epochs=100, verbose=0)\n",
    "\n",
    "# demonstrate prediction\n",
    "x_input = array([70, 80, 90])\n",
    "x_input = x_input.reshape((1, n_steps_in, n_features))\n",
    "yhat = model.predict(x_input, verbose=0)\n",
    "\n",
    "print(x_input)\n",
    "\n",
    "print(\"x_input.shape: \",x_input.shape)\n",
    "\n",
    "print(yhat)"
   ]
  },
  {
   "cell_type": "raw",
   "id": "430febce-b58f-4072-adcc-d8e7c81011c4",
   "metadata": {},
   "source": [
    "[70, 80, 90]"
   ]
  },
  {
   "cell_type": "raw",
   "id": "8ad94878-dced-4c33-a334-9fb01ad549ec",
   "metadata": {
    "tags": []
   },
   "source": [
    "[100, 110]"
   ]
  },
  {
   "cell_type": "markdown",
   "id": "ada50ee2-ca3f-4c38-8b94-0c5572244a8f",
   "metadata": {},
   "source": [
    "# Multivariate Multi-Step Time Series Forecasting"
   ]
  },
  {
   "cell_type": "markdown",
   "id": "9b7e3f2a-7ba9-4efe-9a3c-21817cc9393a",
   "metadata": {},
   "source": [
    "**Input**:"
   ]
  },
  {
   "cell_type": "raw",
   "id": "fd0c797f-e725-4245-9f8a-5125ab2a277b",
   "metadata": {},
   "source": [
    "10, 15\n",
    "20, 25\n",
    "30, 35"
   ]
  },
  {
   "cell_type": "markdown",
   "id": "a56732a2-c1d9-4c66-b6c5-c2adb3450cdb",
   "metadata": {},
   "source": [
    "**Output**:"
   ]
  },
  {
   "cell_type": "raw",
   "id": "3c6c9513-92ce-45f4-a1c9-9b6620aff2ef",
   "metadata": {},
   "source": [
    "65\n",
    "85"
   ]
  },
  {
   "cell_type": "code",
   "execution_count": null,
   "id": "4cc41d5e-b4dd-426b-b5d1-aee4a84890b7",
   "metadata": {},
   "outputs": [],
   "source": [
    "# multivariate multi-step data preparation\n",
    "from numpy import array\n",
    "from numpy import hstack\n",
    " \n",
    "# split a multivariate sequence into samples\n",
    "def split_sequences(sequences, n_steps_in, n_steps_out):\n",
    "    X, y = list(), list()\n",
    "    for i in range(len(sequences)):\n",
    "        # find the end of this pattern\n",
    "        end_ix = i + n_steps_in\n",
    "        out_end_ix = end_ix + n_steps_out-1\n",
    "        # check if we are beyond the dataset\n",
    "        if out_end_ix > len(sequences):\n",
    "            break\n",
    "        # gather input and output parts of the pattern\n",
    "        seq_x, seq_y = sequences[i:end_ix, :-1], sequences[end_ix-1:out_end_ix, -1]\n",
    "        X.append(seq_x)\n",
    "        y.append(seq_y)\n",
    "    return array(X), array(y)\n",
    " \n",
    "# define input sequence\n",
    "in_seq1 = array([10, 20, 30, 40, 50, 60, 70, 80, 90])\n",
    "in_seq2 = array([15, 25, 35, 45, 55, 65, 75, 85, 95])\n",
    "out_seq = array([in_seq1[i]+in_seq2[i] for i in range(len(in_seq1))])\n",
    "\n",
    "# convert to [rows, columns] structure\n",
    "in_seq1 = in_seq1.reshape((len(in_seq1), 1))\n",
    "in_seq2 = in_seq2.reshape((len(in_seq2), 1))\n",
    "out_seq = out_seq.reshape((len(out_seq), 1))\n",
    "# horizontally stack columns\n",
    "dataset = hstack((in_seq1, in_seq2, out_seq))\n",
    "# print(dataset)\n",
    "# choose a number of time steps\n",
    "n_steps_in, n_steps_out = 3, 2\n",
    "# covert into input/output\n",
    "X, y = split_sequences(dataset, n_steps_in, n_steps_out)\n",
    "\n",
    "print(\"X.shape: \",X.shape)\n",
    "print(sep = \" \")\n",
    "print(\"y.shape: \",y.shape)\n",
    "print(sep = \" \")\n",
    "# summarize the data\n",
    "for i in range(len(X)):\n",
    "    print(X[i], y[i])"
   ]
  },
  {
   "cell_type": "code",
   "execution_count": null,
   "id": "05d8e97d-cd8b-48a9-a05e-01806b347f88",
   "metadata": {},
   "outputs": [],
   "source": [
    "x = \"ABCDE\"\n",
    "print(x[0:3])"
   ]
  },
  {
   "cell_type": "code",
   "execution_count": null,
   "id": "a8e76093-e80c-4686-9e53-8ee6f4929256",
   "metadata": {},
   "outputs": [],
   "source": [
    "x = \"ABCDE\"\n",
    "print(x[-1])"
   ]
  },
  {
   "cell_type": "code",
   "execution_count": null,
   "id": "0c01e78e-7ad9-4f4f-bb1c-3f8f2d4dcd2d",
   "metadata": {},
   "outputs": [],
   "source": [
    "# multivariate multi-step stacked lstm example\n",
    "from numpy import array\n",
    "from numpy import hstack\n",
    "from keras.models import Sequential\n",
    "from keras.layers import LSTM\n",
    "from keras.layers import Dense\n",
    " \n",
    "# split a multivariate sequence into samples\n",
    "def split_sequences(sequences, n_steps_in, n_steps_out):\n",
    "    X, y = list(), list()\n",
    "    for i in range(len(sequences)):\n",
    "        # find the end of this pattern\n",
    "        end_ix = i + n_steps_in\n",
    "        out_end_ix = end_ix + n_steps_out-1\n",
    "        # check if we are beyond the dataset\n",
    "        if out_end_ix > len(sequences):\n",
    "            break\n",
    "        # gather input and output parts of the pattern\n",
    "        seq_x, seq_y = sequences[i:end_ix, :-1], sequences[end_ix-1:out_end_ix, -1]\n",
    "        X.append(seq_x)\n",
    "        y.append(seq_y)\n",
    "    return array(X), array(y)\n",
    " \n",
    "# define input sequence\n",
    "in_seq1 = array([10, 20, 30, 40, 50, 60, 70, 80, 90])\n",
    "in_seq2 = array([15, 25, 35, 45, 55, 65, 75, 85, 95])\n",
    "out_seq = array([in_seq1[i]+in_seq2[i] for i in range(len(in_seq1))])\n",
    "# convert to [rows, columns] structure\n",
    "in_seq1 = in_seq1.reshape((len(in_seq1), 1))\n",
    "in_seq2 = in_seq2.reshape((len(in_seq2), 1))\n",
    "out_seq = out_seq.reshape((len(out_seq), 1))\n",
    "# horizontally stack columns\n",
    "dataset = hstack((in_seq1, in_seq2, out_seq))\n",
    "# choose a number of time steps\n",
    "n_steps_in, n_steps_out = 3, 2\n",
    "# covert into input/output\n",
    "X, y = split_sequences(dataset, n_steps_in, n_steps_out)\n",
    "# the dataset knows the number of features, e.g. 2\n",
    "n_features = X.shape[2]\n",
    "\n",
    "# define model\n",
    "model = Sequential()\n",
    "model.add(LSTM(100, activation='relu', return_sequences=True, input_shape=(n_steps_in, n_features)))\n",
    "model.add(LSTM(100, activation='relu'))\n",
    "model.add(Dense(n_steps_out))\n",
    "model.compile(optimizer='adam', loss='mse')\n",
    "# fit model\n",
    "model.fit(X, y, epochs=200, verbose=0)\n",
    "\n",
    "\n",
    "# demonstrate prediction\n",
    "x_input = array([[70, 75], [80, 85], [90, 95]])\n",
    "x_input = x_input.reshape((1, n_steps_in, n_features))\n",
    "yhat = model.predict(x_input, verbose=0)\n",
    "\n",
    "print(x_input)\n",
    "\n",
    "print(\"x_input.shape: \",x_input.shape)\n",
    "\n",
    "print(yhat)"
   ]
  },
  {
   "cell_type": "markdown",
   "id": "bc08a555-cc37-4214-a3f5-7693d1d66d1f",
   "metadata": {
    "tags": []
   },
   "source": [
    "# Multiple Parallel Input and Multi-Step Output"
   ]
  },
  {
   "cell_type": "markdown",
   "id": "72029c2b-1c4b-4064-9876-7ce9fdd9f2d0",
   "metadata": {},
   "source": [
    "**Input**:"
   ]
  },
  {
   "cell_type": "raw",
   "id": "29cf4cf3-7c14-46ec-a182-74ab5f861db5",
   "metadata": {
    "tags": []
   },
   "source": [
    "10, 15, 25\n",
    "20, 25, 45\n",
    "30, 35, 65"
   ]
  },
  {
   "cell_type": "markdown",
   "id": "2480afce-c87c-45c1-a618-b82a0b53e11e",
   "metadata": {
    "tags": []
   },
   "source": [
    "**Output**:"
   ]
  },
  {
   "cell_type": "raw",
   "id": "8d57a646-e509-4b6f-ae60-227664eacf8c",
   "metadata": {
    "tags": []
   },
   "source": [
    "40, 45, 85\n",
    "50, 55, 105"
   ]
  },
  {
   "cell_type": "code",
   "execution_count": null,
   "id": "c5994aaa-0e41-45be-bd98-a5a8a2306b71",
   "metadata": {},
   "outputs": [],
   "source": [
    "# multivariate multi-step data preparation\n",
    "from numpy import array\n",
    "from numpy import hstack\n",
    "\n",
    "# split a multivariate sequence into samples\n",
    "def split_sequences(sequences, n_steps_in, n_steps_out):\n",
    "    X, y = list(), list()\n",
    "    for i in range(len(sequences)):\n",
    "        # find the end of this pattern\n",
    "        end_ix = i + n_steps_in\n",
    "        out_end_ix = end_ix + n_steps_out\n",
    "        # check if we are beyond the dataset\n",
    "        if out_end_ix > len(sequences):\n",
    "            break\n",
    "        # gather input and output parts of the pattern\n",
    "        seq_x, seq_y = sequences[i:end_ix, :], sequences[end_ix:out_end_ix, :]\n",
    "        X.append(seq_x)\n",
    "        y.append(seq_y)\n",
    "    return array(X), array(y)\n",
    " \n",
    "# define input sequence\n",
    "in_seq1 = array([10, 20, 30, 40, 50, 60, 70, 80, 90])\n",
    "in_seq2 = array([15, 25, 35, 45, 55, 65, 75, 85, 95])\n",
    "out_seq = array([in_seq1[i]+in_seq2[i] for i in range(len(in_seq1))])\n",
    "# convert to [rows, columns] structure\n",
    "in_seq1 = in_seq1.reshape((len(in_seq1), 1))\n",
    "in_seq2 = in_seq2.reshape((len(in_seq2), 1))\n",
    "out_seq = out_seq.reshape((len(out_seq), 1))\n",
    "# horizontally stack columns\n",
    "dataset = hstack((in_seq1, in_seq2, out_seq))\n",
    "# choose a number of time steps\n",
    "n_steps_in, n_steps_out = 3, 2\n",
    "# covert into input/output\n",
    "X, y = split_sequences(dataset, n_steps_in, n_steps_out)\n",
    "\n",
    "print(\"X.shape: \",X.shape)\n",
    "print(\"y.shape: \",y.shape)\n",
    "\n",
    "# summarize the data\n",
    "for i in range(len(X)):\n",
    "    print(X[i])\n",
    "    print(y[i])"
   ]
  },
  {
   "cell_type": "code",
   "execution_count": null,
   "id": "f961efca-2415-4322-a4d9-5c8b7454d6f7",
   "metadata": {},
   "outputs": [],
   "source": [
    "# multivariate multi-step encoder-decoder lstm example\n",
    "from numpy import array\n",
    "from numpy import hstack\n",
    "from keras.models import Sequential\n",
    "from keras.layers import LSTM\n",
    "from keras.layers import Dense\n",
    "from keras.layers import RepeatVector\n",
    "from keras.layers import TimeDistributed\n",
    " \n",
    "# split a multivariate sequence into samples\n",
    "def split_sequences(sequences, n_steps_in, n_steps_out):\n",
    "    X, y = list(), list()\n",
    "    for i in range(len(sequences)):\n",
    "        # find the end of this pattern\n",
    "        end_ix = i + n_steps_in\n",
    "        out_end_ix = end_ix + n_steps_out\n",
    "        # check if we are beyond the dataset\n",
    "        if out_end_ix > len(sequences):\n",
    "            break\n",
    "        # gather input and output parts of the pattern\n",
    "        seq_x, seq_y = sequences[i:end_ix, :], sequences[end_ix:out_end_ix, :]\n",
    "        X.append(seq_x)\n",
    "        y.append(seq_y)\n",
    "    return array(X), array(y)\n",
    " \n",
    "# define input sequence\n",
    "in_seq1 = array([10, 20, 30, 40, 50, 60, 70, 80, 90])\n",
    "in_seq2 = array([15, 25, 35, 45, 55, 65, 75, 85, 95])\n",
    "out_seq = array([in_seq1[i]+in_seq2[i] for i in range(len(in_seq1))])\n",
    "# convert to [rows, columns] structure\n",
    "in_seq1 = in_seq1.reshape((len(in_seq1), 1))\n",
    "in_seq2 = in_seq2.reshape((len(in_seq2), 1))\n",
    "out_seq = out_seq.reshape((len(out_seq), 1))\n",
    "# horizontally stack columns\n",
    "dataset = hstack((in_seq1, in_seq2, out_seq))\n",
    "# choose a number of time steps\n",
    "n_steps_in, n_steps_out = 3, 2\n",
    "# covert into input/output\n",
    "X, y = split_sequences(dataset, n_steps_in, n_steps_out)\n",
    "# the dataset knows the number of features, e.g. 2\n",
    "n_features = X.shape[2]\n",
    "# define model\n",
    "model = Sequential()\n",
    "model.add(LSTM(200, activation='relu', input_shape=(n_steps_in, n_features)))\n",
    "model.add(RepeatVector(n_steps_out))\n",
    "model.add(LSTM(200, activation='relu', return_sequences=True))\n",
    "model.add(TimeDistributed(Dense(n_features)))\n",
    "model.compile(optimizer='adam', loss='mse')\n",
    "# fit model\n",
    "model.fit(X, y, epochs=300, verbose=0)\n",
    "model.summary()\n",
    "print(sep = \" \")\n",
    "# demonstrate prediction\n",
    "x_input = array([[60, 65, 125], [70, 75, 145], [80, 85, 165]])\n",
    "x_input = x_input.reshape((1, n_steps_in, n_features))\n",
    "yhat = model.predict(x_input, verbose=0)\n",
    "\n",
    "print(x_input)\n",
    "print(sep = \" \")\n",
    "print(\"x_input.shape: \",x_input.shape)\n",
    "print(sep = \" \")\n",
    "print(yhat)"
   ]
  },
  {
   "cell_type": "raw",
   "id": "5e280b17-be37-4d2e-aa3c-fd07073e6128",
   "metadata": {},
   "source": [
    "90, 95, 185\n",
    "100, 105, 205"
   ]
  }
 ],
 "metadata": {
  "kernelspec": {
   "display_name": "Python 3",
   "language": "python",
   "name": "python3"
  },
  "language_info": {
   "codemirror_mode": {
    "name": "ipython",
    "version": 3
   },
   "file_extension": ".py",
   "mimetype": "text/x-python",
   "name": "python",
   "nbconvert_exporter": "python",
   "pygments_lexer": "ipython3",
   "version": "3.8.8"
  }
 },
 "nbformat": 4,
 "nbformat_minor": 5
}
